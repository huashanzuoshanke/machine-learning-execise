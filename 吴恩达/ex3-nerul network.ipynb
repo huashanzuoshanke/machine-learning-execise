{
 "cells": [
  {
   "cell_type": "code",
   "execution_count": 1,
   "id": "a7f5462d",
   "metadata": {},
   "outputs": [],
   "source": [
    "#多分类\n",
    "#将使用逻辑回归来识别手写数字（0到9）。 我们将扩展我们在练习2中写的逻辑回归的实现，并将其应用于一对一的分类。 让我们开始加载数据集。 它是在MATLAB的本机格式，所以要加载它在Python，我们需要使用一个SciPy工具。\n",
    "import numpy as np\n",
    "import pandas as pd\n",
    "import matplotlib.pyplot as plt\n",
    "from scipy.io import loadmat"
   ]
  },
  {
   "cell_type": "code",
   "execution_count": 12,
   "id": "96cb7e2d",
   "metadata": {},
   "outputs": [
    {
     "ename": "AttributeError",
     "evalue": "'dict' object has no attribute 'shape'",
     "output_type": "error",
     "traceback": [
      "\u001b[1;31m---------------------------------------------------------------------------\u001b[0m",
      "\u001b[1;31mAttributeError\u001b[0m                            Traceback (most recent call last)",
      "\u001b[1;32m<ipython-input-12-a44320c30ee3>\u001b[0m in \u001b[0;36m<module>\u001b[1;34m\u001b[0m\n\u001b[0;32m      2\u001b[0m \u001b[0mdata\u001b[0m  \u001b[1;33m=\u001b[0m \u001b[0mloadmat\u001b[0m\u001b[1;33m(\u001b[0m\u001b[1;34m'D:\\\\dataanalyse\\\\learning_materials\\\\Machine_learning\\\\ex3-nerul network\\\\ex3data1.mat'\u001b[0m\u001b[1;33m)\u001b[0m\u001b[1;33m\u001b[0m\u001b[1;33m\u001b[0m\u001b[0m\n\u001b[0;32m      3\u001b[0m \u001b[0mdata\u001b[0m\u001b[1;33m\u001b[0m\u001b[1;33m\u001b[0m\u001b[0m\n\u001b[1;32m----> 4\u001b[1;33m \u001b[0mdata\u001b[0m\u001b[1;33m.\u001b[0m\u001b[0mshape\u001b[0m\u001b[1;33m(\u001b[0m\u001b[1;33m)\u001b[0m\u001b[1;33m\u001b[0m\u001b[1;33m\u001b[0m\u001b[0m\n\u001b[0m",
      "\u001b[1;31mAttributeError\u001b[0m: 'dict' object has no attribute 'shape'"
     ]
    }
   ],
   "source": [
    "#path_file = \"D:\\\\dataanalyse\\\\learning_materials\\\\Machine_learning\\\\ex3-nerul network\\\\ex3data1.mat\"\n",
    "data  = loadmat('D:\\\\dataanalyse\\\\learning_materials\\\\Machine_learning\\\\ex3-nerul network\\\\ex3data1.mat')\n",
    "data\n",
    "#data.shape()"
   ]
  },
  {
   "cell_type": "code",
   "execution_count": 7,
   "id": "b6c0cdd2",
   "metadata": {},
   "outputs": [
    {
     "data": {
      "text/plain": [
       "((5000, 400), (5000, 1))"
      ]
     },
     "execution_count": 7,
     "metadata": {},
     "output_type": "execute_result"
    }
   ],
   "source": [
    "data['X'].shape,data['y'].shape\n",
    "#图像在martix X中表示为400维向量（其中有5,000个）。 400维“特征”是原始20 x 20图像中每个像素的灰度强度。类标签在向量y中作为表示图像中数字的数字类。"
   ]
  },
  {
   "cell_type": "code",
   "execution_count": 37,
   "id": "297bc42e",
   "metadata": {},
   "outputs": [
    {
     "name": "stdout",
     "output_type": "stream",
     "text": [
      "[[0. 0. 0. ... 0. 0. 0.]\n",
      " [0. 0. 0. ... 0. 0. 0.]\n",
      " [0. 0. 0. ... 0. 0. 0.]\n",
      " ...\n",
      " [0. 0. 0. ... 0. 0. 0.]\n",
      " [0. 0. 0. ... 0. 0. 0.]\n",
      " [0. 0. 0. ... 0. 0. 0.]]\n"
     ]
    }
   ],
   "source": [
    "print(data['X'])"
   ]
  },
  {
   "cell_type": "code",
   "execution_count": 40,
   "id": "d448b745",
   "metadata": {},
   "outputs": [
    {
     "name": "stdout",
     "output_type": "stream",
     "text": [
      "[[10]\n",
      " [10]\n",
      " [10]\n",
      " ...\n",
      " [ 9]\n",
      " [ 9]\n",
      " [ 9]]\n"
     ]
    }
   ],
   "source": [
    "print(data['y'])"
   ]
  },
  {
   "cell_type": "code",
   "execution_count": 8,
   "id": "13d0cd21",
   "metadata": {},
   "outputs": [],
   "source": [
    "#第一个任务是将我们的逻辑回归实现修改为完全向量化（即没有“for”循环）。这是因为向量化代码除了简洁外，还能够利用线性代数优化，并且通常比迭代代码快得多。但是，如果从练习2中看到我们的代价函数已经完全向量化实现了，所以我们可以在这里重复使用相同的实现。\n",
    "#sigmoid函数\n",
    "def sigmoid(z):\n",
    "    return 1 / (1 + np.exp(-z))"
   ]
  },
  {
   "cell_type": "code",
   "execution_count": 9,
   "id": "266aab1f",
   "metadata": {},
   "outputs": [],
   "source": [
    "#正则化的代价函数\n",
    "def cost(theta, X, y, learningRate):\n",
    "    theta = np.matrix(theta)\n",
    "    X = np.matrix(X)\n",
    "    y = np.matrix(y)\n",
    "    first = np.multiply(-y, np.log(sigmoid(X * theta.T)))\n",
    "    second = np.multiply((1 - y), np.log(1 - sigmoid(X * theta.T)))\n",
    "    reg = (learningRate / (2 * len(X))) * np.sum(np.power(theta[:,1:theta.shape[1]], 2))\n",
    "    return np.sum(first - second) / len(X) + reg"
   ]
  },
  {
   "cell_type": "code",
   "execution_count": 10,
   "id": "b22578a0",
   "metadata": {},
   "outputs": [],
   "source": [
    "#以下是原始代码是使用for循环的梯度函数：\n",
    "def gradient_with_loop(theta, X, y, learningRate):\n",
    "    theta = np.matrix(theta)\n",
    "    X = np.matrix(X)\n",
    "    y = np.matrix(y)\n",
    "    \n",
    "    parameters = int(theta.ravel().shape[1])\n",
    "    grad = np.zeros(parameters)\n",
    "    \n",
    "    error = sigmoid(X * theta.T) - y\n",
    "    \n",
    "    for i in range(parameters):\n",
    "        term = np.multiply(error, X[:,i])\n",
    "        \n",
    "        if (i == 0):\n",
    "            grad[i] = np.sum(term) / len(X)\n",
    "        else:\n",
    "            grad[i] = (np.sum(term) / len(X)) + ((learningRate / len(X)) * theta[:,i])\n",
    "    \n",
    "    return grad"
   ]
  },
  {
   "cell_type": "code",
   "execution_count": 11,
   "id": "22b4675b",
   "metadata": {},
   "outputs": [],
   "source": [
    "#向量化的梯度函数\n",
    "def gradient(theta, X, y, learningRate):\n",
    "    theta = np.matrix(theta)\n",
    "    X = np.matrix(X)\n",
    "    y = np.matrix(y)\n",
    "    \n",
    "    parameters = int(theta.ravel().shape[1])\n",
    "    error = sigmoid(X * theta.T) - y\n",
    "    \n",
    "    grad = ((X.T * error) / len(X)).T + ((learningRate / len(X)) * theta)\n",
    "    \n",
    "    # intercept gradient is not regularized\n",
    "    grad[0, 0] = np.sum(np.multiply(error, X[:,0])) / len(X)\n",
    "    \n",
    "    return np.array(grad).ravel()"
   ]
  },
  {
   "cell_type": "code",
   "execution_count": 28,
   "id": "51c4acf7",
   "metadata": {},
   "outputs": [],
   "source": [
    "#构建分类器\n",
    "#有10个可能的类，并且由于逻辑回归只能一次在2个类之间进行分类，我们需要多类分类的策略。 在本练习中，我们的任务是实现一对一全分类方法，其中具有k个不同类的标签就有k个分类器，每个分类器在“类别 i”和“不是 i”之间决定。 我们将把分类器训练包含在一个函数中，该函数计算10个分类器中的每个分类器的最终权重，并将权重返回为k X（n + 1）数组，其中n是参数数量。\n",
    "from scipy.optimize import minimize\n",
    "\n",
    "def one_vs_all(X,y,num_labels,learning_rate):\n",
    "    rows = X.shape[0]         #0 为 行\n",
    "    params = X.shape[1]       #1 为 列\n",
    "    \n",
    "    #k X(n+1)array for the parameters of each of the k classifiers\n",
    "    all_theta = np.zeros((num_labels,params +1))\n",
    "    \n",
    "    #insert a column of ones at the beginning for the intercept term\n",
    "    X = np.insert(X,0,values=np.ones(rows),axis=1)  \n",
    "    \n",
    "    #llabels are 1-indexed instead of 0-indexed\n",
    "    for i in range(1,num_labels+1):\n",
    "        theta = np.zeros(params+1)\n",
    "        y_i=np.array([1 if label == i else 0 for label in y])\n",
    "        y_i=np.reshape(y_i,(rows,1))\n",
    "        \n",
    "        #minimize the objective function\n",
    "        fmin = minimize(fun=cost,x0=theta,args=(X, y_i, learning_rate), method='TNC', jac=gradient)\n",
    "        all_theta[i-1,:] = fmin.x\n",
    "    \n",
    "    return all_theta\n",
    "#注意的点：首先，我们为theta添加了一个额外的参数（与训练数据一列），以计算截距项（常数项）。\n",
    "#其次，我们将y从类标签转换为每个分类器的二进制值（要么是类i，要么不是类i）\n",
    "#最后，我们使用SciPy的较新优化API来最小化每个分类器的代价函数。 如果指定的话，API将采用目标函数，初始参数集，优化方法和jacobian（渐变）函数。 然后将优化程序找到的参数分配给参数数组。"
   ]
  },
  {
   "cell_type": "code",
   "execution_count": 29,
   "id": "09c6d5d6",
   "metadata": {},
   "outputs": [
    {
     "data": {
      "text/plain": [
       "((5000, 401), (5000, 1), (401,), (10, 401))"
      ]
     },
     "execution_count": 29,
     "metadata": {},
     "output_type": "execute_result"
    }
   ],
   "source": [
    "#实现向量化代码的一个更具挑战性的部分是正确地写入所有的矩阵，保证维度正确\n",
    "rows = data['X'].shape[0]\n",
    "params = data['X'].shape[1]\n",
    "\n",
    "all_theta = np.zeros((10, params + 1))\n",
    "\n",
    "X = np.insert(data['X'], 0, values=np.ones(rows), axis=1)\n",
    "\n",
    "theta = np.zeros(params + 1)\n",
    "\n",
    "y_0 = np.array([1 if label == 0 else 0 for label in data['y']])\n",
    "y_0 = np.reshape(y_0, (rows, 1))\n",
    "\n",
    "X.shape, y_0.shape, theta.shape, all_theta.shape"
   ]
  },
  {
   "cell_type": "code",
   "execution_count": 30,
   "id": "4bdbff05",
   "metadata": {},
   "outputs": [
    {
     "data": {
      "text/plain": [
       "array([ 1,  2,  3,  4,  5,  6,  7,  8,  9, 10], dtype=uint8)"
      ]
     },
     "execution_count": 30,
     "metadata": {},
     "output_type": "execute_result"
    }
   ],
   "source": [
    "#注意，theta是一维数组，因此当它被转换为计算梯度的代码中的矩阵时，它变为（1×401）矩阵。 我们还检查y中的类标签，以确保它们看起来像我们想象的一致。\n",
    "np.unique(data['y'])#看下有几类标签"
   ]
  },
  {
   "cell_type": "code",
   "execution_count": 31,
   "id": "dafe98f1",
   "metadata": {},
   "outputs": [
    {
     "data": {
      "text/plain": [
       "array([[-2.38141623e+00,  0.00000000e+00,  0.00000000e+00, ...,\n",
       "         1.30424803e-03, -7.04311408e-10,  0.00000000e+00],\n",
       "       [-3.18348543e+00,  0.00000000e+00,  0.00000000e+00, ...,\n",
       "         4.46493769e-03, -5.09059834e-04,  0.00000000e+00],\n",
       "       [-4.79861142e+00,  0.00000000e+00,  0.00000000e+00, ...,\n",
       "        -2.86588865e-05, -2.47200432e-07,  0.00000000e+00],\n",
       "       ...,\n",
       "       [-7.98767997e+00,  0.00000000e+00,  0.00000000e+00, ...,\n",
       "        -8.93795652e-05,  7.20877416e-06,  0.00000000e+00],\n",
       "       [-4.57212372e+00,  0.00000000e+00,  0.00000000e+00, ...,\n",
       "        -1.33547287e-03,  9.98155107e-05,  0.00000000e+00],\n",
       "       [-5.40208202e+00,  0.00000000e+00,  0.00000000e+00, ...,\n",
       "        -1.17311734e-04,  8.05554480e-06,  0.00000000e+00]])"
      ]
     },
     "execution_count": 31,
     "metadata": {},
     "output_type": "execute_result"
    }
   ],
   "source": [
    "#让我们确保我们的训练函数正确运行，并且得到合理的输出\n",
    "all_theta = one_vs_all(data['X'], data['y'], 10, 1)\n",
    "all_theta"
   ]
  },
  {
   "cell_type": "code",
   "execution_count": 32,
   "id": "50dfaecb",
   "metadata": {},
   "outputs": [],
   "source": [
    "#我们现在准备好最后一步 - 使用训练完毕的分类器预测每个图像的标签。 对于这一步，我们将计算每个类的类概率，对于每个训练样本（使用当然的向量化代码），并将输出类标签为具有最高概率的类。\n",
    "def predict_all(X, all_theta):\n",
    "    rows = X.shape[0]\n",
    "    params = X.shape[1]\n",
    "    num_labels = all_theta.shape[0]\n",
    "    \n",
    "    # same as before, insert ones to match the shape\n",
    "    X = np.insert(X, 0, values=np.ones(rows), axis=1)\n",
    "    \n",
    "    # convert to matrices\n",
    "    X = np.matrix(X)\n",
    "    all_theta = np.matrix(all_theta)\n",
    "    \n",
    "    # compute the class probability for each class on each training instance\n",
    "    h = sigmoid(X * all_theta.T)\n",
    "    \n",
    "    # create array of the index with the maximum probability\n",
    "    h_argmax = np.argmax(h, axis=1)\n",
    "    \n",
    "    # because our array was zero-indexed we need to add one for the true label prediction\n",
    "    h_argmax = h_argmax + 1\n",
    "    \n",
    "    return h_argmax"
   ]
  },
  {
   "cell_type": "code",
   "execution_count": 33,
   "id": "a8c28922",
   "metadata": {},
   "outputs": [
    {
     "name": "stdout",
     "output_type": "stream",
     "text": [
      "accuracy = 94.46%\n"
     ]
    }
   ],
   "source": [
    "y_pred = predict_all(data['X'], all_theta)\n",
    "correct = [1 if a == b else 0 for (a, b) in zip(y_pred, data['y'])]\n",
    "accuracy = (sum(map(int, correct)) / float(len(correct)))\n",
    "print ('accuracy = {0}%'.format(accuracy * 100))"
   ]
  },
  {
   "cell_type": "code",
   "execution_count": null,
   "id": "817a2aac",
   "metadata": {},
   "outputs": [],
   "source": []
  }
 ],
 "metadata": {
  "kernelspec": {
   "display_name": "Python 3",
   "language": "python",
   "name": "python3"
  },
  "language_info": {
   "codemirror_mode": {
    "name": "ipython",
    "version": 3
   },
   "file_extension": ".py",
   "mimetype": "text/x-python",
   "name": "python",
   "nbconvert_exporter": "python",
   "pygments_lexer": "ipython3",
   "version": "3.8.10"
  }
 },
 "nbformat": 4,
 "nbformat_minor": 5
}
