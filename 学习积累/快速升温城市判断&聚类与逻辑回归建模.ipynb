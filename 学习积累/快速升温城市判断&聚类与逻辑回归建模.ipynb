{
 "cells": [
  {
   "cell_type": "code",
   "execution_count": 1,
   "id": "afe7e5ca",
   "metadata": {},
   "outputs": [],
   "source": [
    "import numpy as np\n",
    "import pandas as pd \n",
    "from sklearn.cluster import KMeans\n",
    "import matplotlib.pyplot as plt\n",
    "plt.rcParams['font.sans-serif'] = ['SimHei']#设置中文字体为黑体\n",
    "plt.rcParams['axes.unicode_minus'] = False #正常显示负号\n",
    "from sklearn.linear_model import LogisticRegression\n",
    "from sklearn.model_selection import train_test_split\n",
    "import tabpy_client\n",
    "client = tabpy_client.Client('http://localhost:9004')"
   ]
  },
  {
   "cell_type": "markdown",
   "id": "3ad0f9c2",
   "metadata": {},
   "source": [
    "# KMeans建模"
   ]
  },
  {
   "cell_type": "markdown",
   "id": "4a449725",
   "metadata": {},
   "source": [
    "## 数据导入与构建新字段"
   ]
  },
  {
   "cell_type": "code",
   "execution_count": 2,
   "id": "55b472fe",
   "metadata": {},
   "outputs": [
    {
     "name": "stdout",
     "output_type": "stream",
     "text": [
      "<class 'pandas.core.frame.DataFrame'>\n",
      "RangeIndex: 30129 entries, 0 to 30128\n",
      "Data columns (total 17 columns):\n",
      " #   Column  Non-Null Count  Dtype  \n",
      "---  ------  --------------  -----  \n",
      " 0   行政区属    30129 non-null  object \n",
      " 1   城市      30129 non-null  object \n",
      " 2   城市ID    30129 non-null  object \n",
      " 3   日期      30129 non-null  object \n",
      " 4   更新时间    30129 non-null  object \n",
      " 5   当天high  30129 non-null  int64  \n",
      " 6   前天high  29403 non-null  float64\n",
      " 7   昨天high  29766 non-null  float64\n",
      " 8   后天high  29403 non-null  float64\n",
      " 9   明天high  29766 non-null  float64\n",
      " 10  当天low   30129 non-null  int64  \n",
      " 11  前天Low   29403 non-null  float64\n",
      " 12  昨天Low   29766 non-null  float64\n",
      " 13  后天Low   29403 non-null  float64\n",
      " 14  明天Low   29766 non-null  float64\n",
      " 15  明今温差    29766 non-null  float64\n",
      " 16  后今温差    29403 non-null  float64\n",
      "dtypes: float64(10), int64(2), object(5)\n",
      "memory usage: 3.9+ MB\n"
     ]
    }
   ],
   "source": [
    "dfpath = 'D:\\\\dataanalyse\\\\learning_materials\\\\大工具课第二期\\\\自己实操\\\\项目四天气API数据的自动获取入库与升温城市投放建议算法调用\\\\天气数据.csv'\n",
    "weather_=pd.read_csv(dfpath,encoding=\"gbk\")\n",
    "weather_['明今温差']=weather_.明天high-weather_.当天high\n",
    "weather_['后今温差'] = weather_.后天high - weather_.当天high\n",
    "weather_.info()"
   ]
  },
  {
   "cell_type": "markdown",
   "id": "be3dd413",
   "metadata": {},
   "source": [
    "## 数据处理"
   ]
  },
  {
   "cell_type": "code",
   "execution_count": 3,
   "id": "abfddd27",
   "metadata": {},
   "outputs": [],
   "source": [
    "weather_ = weather_.dropna()#删除空值行，空值小于3%，一般可以考虑直接删除\n",
    "weather_.reset_index(drop= True,inplace=True)"
   ]
  },
  {
   "cell_type": "code",
   "execution_count": 4,
   "id": "4cb3bee4",
   "metadata": {},
   "outputs": [
    {
     "data": {
      "text/html": [
       "<div>\n",
       "<style scoped>\n",
       "    .dataframe tbody tr th:only-of-type {\n",
       "        vertical-align: middle;\n",
       "    }\n",
       "\n",
       "    .dataframe tbody tr th {\n",
       "        vertical-align: top;\n",
       "    }\n",
       "\n",
       "    .dataframe thead th {\n",
       "        text-align: right;\n",
       "    }\n",
       "</style>\n",
       "<table border=\"1\" class=\"dataframe\">\n",
       "  <thead>\n",
       "    <tr style=\"text-align: right;\">\n",
       "      <th></th>\n",
       "      <th>行政区属</th>\n",
       "      <th>城市</th>\n",
       "      <th>城市ID</th>\n",
       "      <th>日期</th>\n",
       "      <th>更新时间</th>\n",
       "      <th>当天high</th>\n",
       "      <th>前天high</th>\n",
       "      <th>昨天high</th>\n",
       "      <th>后天high</th>\n",
       "      <th>明天high</th>\n",
       "      <th>当天low</th>\n",
       "      <th>前天Low</th>\n",
       "      <th>昨天Low</th>\n",
       "      <th>后天Low</th>\n",
       "      <th>明天Low</th>\n",
       "      <th>明今温差</th>\n",
       "      <th>后今温差</th>\n",
       "    </tr>\n",
       "  </thead>\n",
       "  <tbody>\n",
       "    <tr>\n",
       "      <th>0</th>\n",
       "      <td>阿里,阿里,西藏,中国</td>\n",
       "      <td>阿里</td>\n",
       "      <td>TV9JG0M1S9QU</td>\n",
       "      <td>2021-04-23</td>\n",
       "      <td>2021-04-23 00:00:00</td>\n",
       "      <td>3</td>\n",
       "      <td>6.0</td>\n",
       "      <td>5.0</td>\n",
       "      <td>8.0</td>\n",
       "      <td>4.0</td>\n",
       "      <td>-7</td>\n",
       "      <td>-4.0</td>\n",
       "      <td>-9.0</td>\n",
       "      <td>-13.0</td>\n",
       "      <td>-10.0</td>\n",
       "      <td>1.0</td>\n",
       "      <td>5.0</td>\n",
       "    </tr>\n",
       "    <tr>\n",
       "      <th>1</th>\n",
       "      <td>阿里,阿里,西藏,中国</td>\n",
       "      <td>阿里</td>\n",
       "      <td>TV9JG0M1S9QU</td>\n",
       "      <td>2021-04-24</td>\n",
       "      <td>2021-04-24 00:00:00</td>\n",
       "      <td>4</td>\n",
       "      <td>5.0</td>\n",
       "      <td>3.0</td>\n",
       "      <td>9.0</td>\n",
       "      <td>8.0</td>\n",
       "      <td>-10</td>\n",
       "      <td>-9.0</td>\n",
       "      <td>-7.0</td>\n",
       "      <td>-7.0</td>\n",
       "      <td>-13.0</td>\n",
       "      <td>4.0</td>\n",
       "      <td>5.0</td>\n",
       "    </tr>\n",
       "    <tr>\n",
       "      <th>2</th>\n",
       "      <td>阿里,阿里,西藏,中国</td>\n",
       "      <td>阿里</td>\n",
       "      <td>TV9JG0M1S9QU</td>\n",
       "      <td>2021-04-25</td>\n",
       "      <td>2021-04-25 00:00:00</td>\n",
       "      <td>8</td>\n",
       "      <td>3.0</td>\n",
       "      <td>4.0</td>\n",
       "      <td>8.0</td>\n",
       "      <td>9.0</td>\n",
       "      <td>-13</td>\n",
       "      <td>-7.0</td>\n",
       "      <td>-10.0</td>\n",
       "      <td>-3.0</td>\n",
       "      <td>-7.0</td>\n",
       "      <td>1.0</td>\n",
       "      <td>0.0</td>\n",
       "    </tr>\n",
       "    <tr>\n",
       "      <th>3</th>\n",
       "      <td>阿里,阿里,西藏,中国</td>\n",
       "      <td>阿里</td>\n",
       "      <td>TV9JG0M1S9QU</td>\n",
       "      <td>2021-04-26</td>\n",
       "      <td>2021-04-25 23:35:05</td>\n",
       "      <td>9</td>\n",
       "      <td>4.0</td>\n",
       "      <td>8.0</td>\n",
       "      <td>10.0</td>\n",
       "      <td>8.0</td>\n",
       "      <td>-7</td>\n",
       "      <td>-10.0</td>\n",
       "      <td>-13.0</td>\n",
       "      <td>-3.0</td>\n",
       "      <td>-3.0</td>\n",
       "      <td>-1.0</td>\n",
       "      <td>1.0</td>\n",
       "    </tr>\n",
       "    <tr>\n",
       "      <th>4</th>\n",
       "      <td>阿里,阿里,西藏,中国</td>\n",
       "      <td>阿里</td>\n",
       "      <td>TV9JG0M1S9QU</td>\n",
       "      <td>2021-04-27</td>\n",
       "      <td>2021-04-27 10:00:00</td>\n",
       "      <td>8</td>\n",
       "      <td>8.0</td>\n",
       "      <td>9.0</td>\n",
       "      <td>9.0</td>\n",
       "      <td>10.0</td>\n",
       "      <td>-3</td>\n",
       "      <td>-13.0</td>\n",
       "      <td>-7.0</td>\n",
       "      <td>-4.0</td>\n",
       "      <td>-3.0</td>\n",
       "      <td>2.0</td>\n",
       "      <td>1.0</td>\n",
       "    </tr>\n",
       "    <tr>\n",
       "      <th>5</th>\n",
       "      <td>阿里,阿里,西藏,中国</td>\n",
       "      <td>阿里</td>\n",
       "      <td>TV9JG0M1S9QU</td>\n",
       "      <td>2021-04-28</td>\n",
       "      <td>2021-04-28 03:00:00</td>\n",
       "      <td>10</td>\n",
       "      <td>9.0</td>\n",
       "      <td>8.0</td>\n",
       "      <td>10.0</td>\n",
       "      <td>9.0</td>\n",
       "      <td>-3</td>\n",
       "      <td>-7.0</td>\n",
       "      <td>-3.0</td>\n",
       "      <td>-4.0</td>\n",
       "      <td>-4.0</td>\n",
       "      <td>-1.0</td>\n",
       "      <td>0.0</td>\n",
       "    </tr>\n",
       "    <tr>\n",
       "      <th>6</th>\n",
       "      <td>阿里,阿里,西藏,中国</td>\n",
       "      <td>阿里</td>\n",
       "      <td>TV9JG0M1S9QU</td>\n",
       "      <td>2021-04-29</td>\n",
       "      <td>2021-04-28 22:45:14</td>\n",
       "      <td>9</td>\n",
       "      <td>8.0</td>\n",
       "      <td>10.0</td>\n",
       "      <td>12.0</td>\n",
       "      <td>10.0</td>\n",
       "      <td>-4</td>\n",
       "      <td>-3.0</td>\n",
       "      <td>-3.0</td>\n",
       "      <td>-1.0</td>\n",
       "      <td>-4.0</td>\n",
       "      <td>1.0</td>\n",
       "      <td>3.0</td>\n",
       "    </tr>\n",
       "    <tr>\n",
       "      <th>7</th>\n",
       "      <td>阿里,阿里,西藏,中国</td>\n",
       "      <td>阿里</td>\n",
       "      <td>TV9JG0M1S9QU</td>\n",
       "      <td>2021-04-30</td>\n",
       "      <td>2021-04-30 00:00:00</td>\n",
       "      <td>10</td>\n",
       "      <td>10.0</td>\n",
       "      <td>9.0</td>\n",
       "      <td>13.0</td>\n",
       "      <td>12.0</td>\n",
       "      <td>-4</td>\n",
       "      <td>-3.0</td>\n",
       "      <td>-4.0</td>\n",
       "      <td>-1.0</td>\n",
       "      <td>-1.0</td>\n",
       "      <td>2.0</td>\n",
       "      <td>3.0</td>\n",
       "    </tr>\n",
       "    <tr>\n",
       "      <th>8</th>\n",
       "      <td>阿里,阿里,西藏,中国</td>\n",
       "      <td>阿里</td>\n",
       "      <td>TV9JG0M1S9QU</td>\n",
       "      <td>2021-05-01</td>\n",
       "      <td>2021-05-01 03:00:00</td>\n",
       "      <td>12</td>\n",
       "      <td>9.0</td>\n",
       "      <td>10.0</td>\n",
       "      <td>14.0</td>\n",
       "      <td>13.0</td>\n",
       "      <td>-1</td>\n",
       "      <td>-4.0</td>\n",
       "      <td>-4.0</td>\n",
       "      <td>1.0</td>\n",
       "      <td>-1.0</td>\n",
       "      <td>1.0</td>\n",
       "      <td>2.0</td>\n",
       "    </tr>\n",
       "    <tr>\n",
       "      <th>9</th>\n",
       "      <td>阿里,阿里,西藏,中国</td>\n",
       "      <td>阿里</td>\n",
       "      <td>TV9JG0M1S9QU</td>\n",
       "      <td>2021-05-02</td>\n",
       "      <td>2021-05-02 00:00:00</td>\n",
       "      <td>13</td>\n",
       "      <td>10.0</td>\n",
       "      <td>12.0</td>\n",
       "      <td>13.0</td>\n",
       "      <td>14.0</td>\n",
       "      <td>-1</td>\n",
       "      <td>-4.0</td>\n",
       "      <td>-1.0</td>\n",
       "      <td>-1.0</td>\n",
       "      <td>1.0</td>\n",
       "      <td>1.0</td>\n",
       "      <td>0.0</td>\n",
       "    </tr>\n",
       "    <tr>\n",
       "      <th>10</th>\n",
       "      <td>阿里,阿里,西藏,中国</td>\n",
       "      <td>阿里</td>\n",
       "      <td>TV9JG0M1S9QU</td>\n",
       "      <td>2021-05-03</td>\n",
       "      <td>2021-05-03 00:00:00</td>\n",
       "      <td>14</td>\n",
       "      <td>12.0</td>\n",
       "      <td>13.0</td>\n",
       "      <td>12.0</td>\n",
       "      <td>13.0</td>\n",
       "      <td>1</td>\n",
       "      <td>-1.0</td>\n",
       "      <td>-1.0</td>\n",
       "      <td>0.0</td>\n",
       "      <td>-1.0</td>\n",
       "      <td>-1.0</td>\n",
       "      <td>-2.0</td>\n",
       "    </tr>\n",
       "    <tr>\n",
       "      <th>11</th>\n",
       "      <td>阿里,阿里,西藏,中国</td>\n",
       "      <td>阿里</td>\n",
       "      <td>TV9JG0M1S9QU</td>\n",
       "      <td>2021-05-04</td>\n",
       "      <td>2021-05-04 00:00:00</td>\n",
       "      <td>13</td>\n",
       "      <td>13.0</td>\n",
       "      <td>14.0</td>\n",
       "      <td>12.0</td>\n",
       "      <td>12.0</td>\n",
       "      <td>-1</td>\n",
       "      <td>-1.0</td>\n",
       "      <td>1.0</td>\n",
       "      <td>-1.0</td>\n",
       "      <td>0.0</td>\n",
       "      <td>-1.0</td>\n",
       "      <td>-1.0</td>\n",
       "    </tr>\n",
       "    <tr>\n",
       "      <th>12</th>\n",
       "      <td>阿里,阿里,西藏,中国</td>\n",
       "      <td>阿里</td>\n",
       "      <td>TV9JG0M1S9QU</td>\n",
       "      <td>2021-05-05</td>\n",
       "      <td>2021-05-05 03:00:00</td>\n",
       "      <td>12</td>\n",
       "      <td>14.0</td>\n",
       "      <td>13.0</td>\n",
       "      <td>11.0</td>\n",
       "      <td>12.0</td>\n",
       "      <td>0</td>\n",
       "      <td>1.0</td>\n",
       "      <td>-1.0</td>\n",
       "      <td>-2.0</td>\n",
       "      <td>-1.0</td>\n",
       "      <td>0.0</td>\n",
       "      <td>-1.0</td>\n",
       "    </tr>\n",
       "    <tr>\n",
       "      <th>13</th>\n",
       "      <td>阿里,阿里,西藏,中国</td>\n",
       "      <td>阿里</td>\n",
       "      <td>TV9JG0M1S9QU</td>\n",
       "      <td>2021-05-06</td>\n",
       "      <td>2021-05-06 00:00:00</td>\n",
       "      <td>12</td>\n",
       "      <td>13.0</td>\n",
       "      <td>12.0</td>\n",
       "      <td>12.0</td>\n",
       "      <td>11.0</td>\n",
       "      <td>-1</td>\n",
       "      <td>-1.0</td>\n",
       "      <td>0.0</td>\n",
       "      <td>0.0</td>\n",
       "      <td>-2.0</td>\n",
       "      <td>-1.0</td>\n",
       "      <td>0.0</td>\n",
       "    </tr>\n",
       "    <tr>\n",
       "      <th>14</th>\n",
       "      <td>阿里,阿里,西藏,中国</td>\n",
       "      <td>阿里</td>\n",
       "      <td>TV9JG0M1S9QU</td>\n",
       "      <td>2021-05-07</td>\n",
       "      <td>2021-05-07 03:00:00</td>\n",
       "      <td>11</td>\n",
       "      <td>12.0</td>\n",
       "      <td>12.0</td>\n",
       "      <td>6.0</td>\n",
       "      <td>12.0</td>\n",
       "      <td>-2</td>\n",
       "      <td>0.0</td>\n",
       "      <td>-1.0</td>\n",
       "      <td>0.0</td>\n",
       "      <td>0.0</td>\n",
       "      <td>1.0</td>\n",
       "      <td>-5.0</td>\n",
       "    </tr>\n",
       "    <tr>\n",
       "      <th>15</th>\n",
       "      <td>阿里,阿里,西藏,中国</td>\n",
       "      <td>阿里</td>\n",
       "      <td>TV9JG0M1S9QU</td>\n",
       "      <td>2021-05-08</td>\n",
       "      <td>2021-05-08 00:00:00</td>\n",
       "      <td>12</td>\n",
       "      <td>12.0</td>\n",
       "      <td>11.0</td>\n",
       "      <td>12.0</td>\n",
       "      <td>6.0</td>\n",
       "      <td>0</td>\n",
       "      <td>-1.0</td>\n",
       "      <td>-2.0</td>\n",
       "      <td>-1.0</td>\n",
       "      <td>0.0</td>\n",
       "      <td>-6.0</td>\n",
       "      <td>0.0</td>\n",
       "    </tr>\n",
       "    <tr>\n",
       "      <th>16</th>\n",
       "      <td>阿里,阿里,西藏,中国</td>\n",
       "      <td>阿里</td>\n",
       "      <td>TV9JG0M1S9QU</td>\n",
       "      <td>2021-05-09</td>\n",
       "      <td>2021-05-09 10:00:00</td>\n",
       "      <td>6</td>\n",
       "      <td>11.0</td>\n",
       "      <td>12.0</td>\n",
       "      <td>12.0</td>\n",
       "      <td>12.0</td>\n",
       "      <td>0</td>\n",
       "      <td>-2.0</td>\n",
       "      <td>0.0</td>\n",
       "      <td>-3.0</td>\n",
       "      <td>-1.0</td>\n",
       "      <td>6.0</td>\n",
       "      <td>6.0</td>\n",
       "    </tr>\n",
       "    <tr>\n",
       "      <th>17</th>\n",
       "      <td>阿里,阿里,西藏,中国</td>\n",
       "      <td>阿里</td>\n",
       "      <td>TV9JG0M1S9QU</td>\n",
       "      <td>2021-05-10</td>\n",
       "      <td>2021-05-10 00:00:00</td>\n",
       "      <td>12</td>\n",
       "      <td>12.0</td>\n",
       "      <td>6.0</td>\n",
       "      <td>12.0</td>\n",
       "      <td>12.0</td>\n",
       "      <td>-1</td>\n",
       "      <td>0.0</td>\n",
       "      <td>0.0</td>\n",
       "      <td>0.0</td>\n",
       "      <td>-3.0</td>\n",
       "      <td>0.0</td>\n",
       "      <td>0.0</td>\n",
       "    </tr>\n",
       "    <tr>\n",
       "      <th>18</th>\n",
       "      <td>阿里,阿里,西藏,中国</td>\n",
       "      <td>阿里</td>\n",
       "      <td>TV9JG0M1S9QU</td>\n",
       "      <td>2021-05-11</td>\n",
       "      <td>2021-05-11 00:00:00</td>\n",
       "      <td>12</td>\n",
       "      <td>6.0</td>\n",
       "      <td>12.0</td>\n",
       "      <td>9.0</td>\n",
       "      <td>12.0</td>\n",
       "      <td>-3</td>\n",
       "      <td>0.0</td>\n",
       "      <td>-1.0</td>\n",
       "      <td>-2.0</td>\n",
       "      <td>0.0</td>\n",
       "      <td>0.0</td>\n",
       "      <td>-3.0</td>\n",
       "    </tr>\n",
       "    <tr>\n",
       "      <th>19</th>\n",
       "      <td>阿里,阿里,西藏,中国</td>\n",
       "      <td>阿里</td>\n",
       "      <td>TV9JG0M1S9QU</td>\n",
       "      <td>2021-05-12</td>\n",
       "      <td>2021-05-12 00:00:00</td>\n",
       "      <td>12</td>\n",
       "      <td>12.0</td>\n",
       "      <td>12.0</td>\n",
       "      <td>7.0</td>\n",
       "      <td>9.0</td>\n",
       "      <td>0</td>\n",
       "      <td>-1.0</td>\n",
       "      <td>-3.0</td>\n",
       "      <td>0.0</td>\n",
       "      <td>-2.0</td>\n",
       "      <td>-3.0</td>\n",
       "      <td>-5.0</td>\n",
       "    </tr>\n",
       "  </tbody>\n",
       "</table>\n",
       "</div>"
      ],
      "text/plain": [
       "           行政区属  城市          城市ID          日期                 更新时间  当天high  \\\n",
       "0   阿里,阿里,西藏,中国  阿里  TV9JG0M1S9QU  2021-04-23  2021-04-23 00:00:00       3   \n",
       "1   阿里,阿里,西藏,中国  阿里  TV9JG0M1S9QU  2021-04-24  2021-04-24 00:00:00       4   \n",
       "2   阿里,阿里,西藏,中国  阿里  TV9JG0M1S9QU  2021-04-25  2021-04-25 00:00:00       8   \n",
       "3   阿里,阿里,西藏,中国  阿里  TV9JG0M1S9QU  2021-04-26  2021-04-25 23:35:05       9   \n",
       "4   阿里,阿里,西藏,中国  阿里  TV9JG0M1S9QU  2021-04-27  2021-04-27 10:00:00       8   \n",
       "5   阿里,阿里,西藏,中国  阿里  TV9JG0M1S9QU  2021-04-28  2021-04-28 03:00:00      10   \n",
       "6   阿里,阿里,西藏,中国  阿里  TV9JG0M1S9QU  2021-04-29  2021-04-28 22:45:14       9   \n",
       "7   阿里,阿里,西藏,中国  阿里  TV9JG0M1S9QU  2021-04-30  2021-04-30 00:00:00      10   \n",
       "8   阿里,阿里,西藏,中国  阿里  TV9JG0M1S9QU  2021-05-01  2021-05-01 03:00:00      12   \n",
       "9   阿里,阿里,西藏,中国  阿里  TV9JG0M1S9QU  2021-05-02  2021-05-02 00:00:00      13   \n",
       "10  阿里,阿里,西藏,中国  阿里  TV9JG0M1S9QU  2021-05-03  2021-05-03 00:00:00      14   \n",
       "11  阿里,阿里,西藏,中国  阿里  TV9JG0M1S9QU  2021-05-04  2021-05-04 00:00:00      13   \n",
       "12  阿里,阿里,西藏,中国  阿里  TV9JG0M1S9QU  2021-05-05  2021-05-05 03:00:00      12   \n",
       "13  阿里,阿里,西藏,中国  阿里  TV9JG0M1S9QU  2021-05-06  2021-05-06 00:00:00      12   \n",
       "14  阿里,阿里,西藏,中国  阿里  TV9JG0M1S9QU  2021-05-07  2021-05-07 03:00:00      11   \n",
       "15  阿里,阿里,西藏,中国  阿里  TV9JG0M1S9QU  2021-05-08  2021-05-08 00:00:00      12   \n",
       "16  阿里,阿里,西藏,中国  阿里  TV9JG0M1S9QU  2021-05-09  2021-05-09 10:00:00       6   \n",
       "17  阿里,阿里,西藏,中国  阿里  TV9JG0M1S9QU  2021-05-10  2021-05-10 00:00:00      12   \n",
       "18  阿里,阿里,西藏,中国  阿里  TV9JG0M1S9QU  2021-05-11  2021-05-11 00:00:00      12   \n",
       "19  阿里,阿里,西藏,中国  阿里  TV9JG0M1S9QU  2021-05-12  2021-05-12 00:00:00      12   \n",
       "\n",
       "    前天high  昨天high  后天high  明天high  当天low  前天Low  昨天Low  后天Low  明天Low  明今温差  \\\n",
       "0      6.0     5.0     8.0     4.0     -7   -4.0   -9.0  -13.0  -10.0   1.0   \n",
       "1      5.0     3.0     9.0     8.0    -10   -9.0   -7.0   -7.0  -13.0   4.0   \n",
       "2      3.0     4.0     8.0     9.0    -13   -7.0  -10.0   -3.0   -7.0   1.0   \n",
       "3      4.0     8.0    10.0     8.0     -7  -10.0  -13.0   -3.0   -3.0  -1.0   \n",
       "4      8.0     9.0     9.0    10.0     -3  -13.0   -7.0   -4.0   -3.0   2.0   \n",
       "5      9.0     8.0    10.0     9.0     -3   -7.0   -3.0   -4.0   -4.0  -1.0   \n",
       "6      8.0    10.0    12.0    10.0     -4   -3.0   -3.0   -1.0   -4.0   1.0   \n",
       "7     10.0     9.0    13.0    12.0     -4   -3.0   -4.0   -1.0   -1.0   2.0   \n",
       "8      9.0    10.0    14.0    13.0     -1   -4.0   -4.0    1.0   -1.0   1.0   \n",
       "9     10.0    12.0    13.0    14.0     -1   -4.0   -1.0   -1.0    1.0   1.0   \n",
       "10    12.0    13.0    12.0    13.0      1   -1.0   -1.0    0.0   -1.0  -1.0   \n",
       "11    13.0    14.0    12.0    12.0     -1   -1.0    1.0   -1.0    0.0  -1.0   \n",
       "12    14.0    13.0    11.0    12.0      0    1.0   -1.0   -2.0   -1.0   0.0   \n",
       "13    13.0    12.0    12.0    11.0     -1   -1.0    0.0    0.0   -2.0  -1.0   \n",
       "14    12.0    12.0     6.0    12.0     -2    0.0   -1.0    0.0    0.0   1.0   \n",
       "15    12.0    11.0    12.0     6.0      0   -1.0   -2.0   -1.0    0.0  -6.0   \n",
       "16    11.0    12.0    12.0    12.0      0   -2.0    0.0   -3.0   -1.0   6.0   \n",
       "17    12.0     6.0    12.0    12.0     -1    0.0    0.0    0.0   -3.0   0.0   \n",
       "18     6.0    12.0     9.0    12.0     -3    0.0   -1.0   -2.0    0.0   0.0   \n",
       "19    12.0    12.0     7.0     9.0      0   -1.0   -3.0    0.0   -2.0  -3.0   \n",
       "\n",
       "    后今温差  \n",
       "0    5.0  \n",
       "1    5.0  \n",
       "2    0.0  \n",
       "3    1.0  \n",
       "4    1.0  \n",
       "5    0.0  \n",
       "6    3.0  \n",
       "7    3.0  \n",
       "8    2.0  \n",
       "9    0.0  \n",
       "10  -2.0  \n",
       "11  -1.0  \n",
       "12  -1.0  \n",
       "13   0.0  \n",
       "14  -5.0  \n",
       "15   0.0  \n",
       "16   6.0  \n",
       "17   0.0  \n",
       "18  -3.0  \n",
       "19  -5.0  "
      ]
     },
     "execution_count": 4,
     "metadata": {},
     "output_type": "execute_result"
    }
   ],
   "source": [
    "weather_.head(20)"
   ]
  },
  {
   "cell_type": "code",
   "execution_count": 5,
   "id": "bd800af1",
   "metadata": {},
   "outputs": [],
   "source": [
    "import seaborn as sns\n",
    "import warnings \n",
    "warnings.filterwarnings(\"ignore\")            \n",
    "sns.set(style=\"white\", color_codes=True)"
   ]
  },
  {
   "cell_type": "code",
   "execution_count": 6,
   "id": "4d5ecae3",
   "metadata": {},
   "outputs": [
    {
     "data": {
      "image/png": "[encoded data removed]",
      "text/plain": [
       "<Figure size 1080x504 with 1 Axes>"
      ]
     },
     "metadata": {},
     "output_type": "display_data"
    }
   ],
   "source": [
    "x = weather_.日期\n",
    "y = weather_.明今温差\n",
    "y1 = weather_.后今温差\n",
    "y2 = weather_.当天high\n",
    "\n",
    "plt.figure(figsize=(15,7))\n",
    "sns.boxplot(x,y,data=weather_)\n",
    "plt.show()"
   ]
  },
  {
   "cell_type": "code",
   "execution_count": 7,
   "id": "69121ffa",
   "metadata": {},
   "outputs": [
    {
     "data": {
      "image/png": "[encoded data removed]",
      "text/plain": [
       "<Figure size 1080x504 with 1 Axes>"
      ]
     },
     "metadata": {},
     "output_type": "display_data"
    }
   ],
   "source": [
    "plt.figure(figsize=(15,7))\n",
    "sns.boxplot(x,y1,data=weather_)\n",
    "plt.show()"
   ]
  },
  {
   "cell_type": "code",
   "execution_count": 8,
   "id": "fd828d13",
   "metadata": {},
   "outputs": [
    {
     "data": {
      "image/png": "[encoded data removed]",
      "text/plain": [
       "<Figure size 1080x504 with 1 Axes>"
      ]
     },
     "metadata": {},
     "output_type": "display_data"
    }
   ],
   "source": [
    "plt.figure(figsize=(15,7))\n",
    "sns.boxplot(x,y2,data=weather_)\n",
    "plt.show()"
   ]
  },
  {
   "cell_type": "code",
   "execution_count": 9,
   "id": "ff16bba0",
   "metadata": {},
   "outputs": [
    {
     "data": {
      "text/html": [
       "<div>\n",
       "<style scoped>\n",
       "    .dataframe tbody tr th:only-of-type {\n",
       "        vertical-align: middle;\n",
       "    }\n",
       "\n",
       "    .dataframe tbody tr th {\n",
       "        vertical-align: top;\n",
       "    }\n",
       "\n",
       "    .dataframe thead th {\n",
       "        text-align: right;\n",
       "    }\n",
       "</style>\n",
       "<table border=\"1\" class=\"dataframe\">\n",
       "  <thead>\n",
       "    <tr style=\"text-align: right;\">\n",
       "      <th></th>\n",
       "      <th>当天high</th>\n",
       "      <th>前天high</th>\n",
       "      <th>昨天high</th>\n",
       "      <th>后天high</th>\n",
       "      <th>明天high</th>\n",
       "      <th>当天low</th>\n",
       "      <th>前天Low</th>\n",
       "      <th>昨天Low</th>\n",
       "      <th>后天Low</th>\n",
       "      <th>明天Low</th>\n",
       "      <th>明今温差</th>\n",
       "      <th>后今温差</th>\n",
       "    </tr>\n",
       "  </thead>\n",
       "  <tbody>\n",
       "    <tr>\n",
       "      <th>count</th>\n",
       "      <td>28670.000000</td>\n",
       "      <td>28670.000000</td>\n",
       "      <td>28670.000000</td>\n",
       "      <td>28670.000000</td>\n",
       "      <td>28670.000000</td>\n",
       "      <td>28670.000000</td>\n",
       "      <td>28670.000000</td>\n",
       "      <td>28670.000000</td>\n",
       "      <td>28670.000000</td>\n",
       "      <td>28670.000000</td>\n",
       "      <td>28670.000000</td>\n",
       "      <td>28670.000000</td>\n",
       "    </tr>\n",
       "    <tr>\n",
       "      <th>mean</th>\n",
       "      <td>27.774259</td>\n",
       "      <td>27.610638</td>\n",
       "      <td>27.706174</td>\n",
       "      <td>28.025881</td>\n",
       "      <td>27.889083</td>\n",
       "      <td>17.461493</td>\n",
       "      <td>17.235228</td>\n",
       "      <td>17.345274</td>\n",
       "      <td>17.715138</td>\n",
       "      <td>17.579630</td>\n",
       "      <td>0.114824</td>\n",
       "      <td>0.251622</td>\n",
       "    </tr>\n",
       "    <tr>\n",
       "      <th>std</th>\n",
       "      <td>5.721558</td>\n",
       "      <td>8.243898</td>\n",
       "      <td>7.578337</td>\n",
       "      <td>5.600427</td>\n",
       "      <td>5.677268</td>\n",
       "      <td>6.527908</td>\n",
       "      <td>6.543707</td>\n",
       "      <td>6.540038</td>\n",
       "      <td>6.480242</td>\n",
       "      <td>6.511491</td>\n",
       "      <td>3.060610</td>\n",
       "      <td>3.952016</td>\n",
       "    </tr>\n",
       "    <tr>\n",
       "      <th>min</th>\n",
       "      <td>3.000000</td>\n",
       "      <td>3.000000</td>\n",
       "      <td>3.000000</td>\n",
       "      <td>3.000000</td>\n",
       "      <td>3.000000</td>\n",
       "      <td>-13.000000</td>\n",
       "      <td>-13.000000</td>\n",
       "      <td>-13.000000</td>\n",
       "      <td>-13.000000</td>\n",
       "      <td>-13.000000</td>\n",
       "      <td>-16.000000</td>\n",
       "      <td>-20.000000</td>\n",
       "    </tr>\n",
       "    <tr>\n",
       "      <th>25%</th>\n",
       "      <td>24.000000</td>\n",
       "      <td>24.000000</td>\n",
       "      <td>24.000000</td>\n",
       "      <td>25.000000</td>\n",
       "      <td>24.000000</td>\n",
       "      <td>13.000000</td>\n",
       "      <td>13.000000</td>\n",
       "      <td>13.000000</td>\n",
       "      <td>14.000000</td>\n",
       "      <td>14.000000</td>\n",
       "      <td>-1.000000</td>\n",
       "      <td>-2.000000</td>\n",
       "    </tr>\n",
       "    <tr>\n",
       "      <th>50%</th>\n",
       "      <td>29.000000</td>\n",
       "      <td>28.000000</td>\n",
       "      <td>29.000000</td>\n",
       "      <td>29.000000</td>\n",
       "      <td>29.000000</td>\n",
       "      <td>18.000000</td>\n",
       "      <td>18.000000</td>\n",
       "      <td>18.000000</td>\n",
       "      <td>18.000000</td>\n",
       "      <td>18.000000</td>\n",
       "      <td>0.000000</td>\n",
       "      <td>0.000000</td>\n",
       "    </tr>\n",
       "    <tr>\n",
       "      <th>75%</th>\n",
       "      <td>32.000000</td>\n",
       "      <td>32.000000</td>\n",
       "      <td>32.000000</td>\n",
       "      <td>32.000000</td>\n",
       "      <td>32.000000</td>\n",
       "      <td>23.000000</td>\n",
       "      <td>23.000000</td>\n",
       "      <td>23.000000</td>\n",
       "      <td>23.000000</td>\n",
       "      <td>23.000000</td>\n",
       "      <td>2.000000</td>\n",
       "      <td>3.000000</td>\n",
       "    </tr>\n",
       "    <tr>\n",
       "      <th>max</th>\n",
       "      <td>47.000000</td>\n",
       "      <td>664.000000</td>\n",
       "      <td>664.000000</td>\n",
       "      <td>47.000000</td>\n",
       "      <td>47.000000</td>\n",
       "      <td>33.000000</td>\n",
       "      <td>33.000000</td>\n",
       "      <td>33.000000</td>\n",
       "      <td>33.000000</td>\n",
       "      <td>33.000000</td>\n",
       "      <td>15.000000</td>\n",
       "      <td>16.000000</td>\n",
       "    </tr>\n",
       "  </tbody>\n",
       "</table>\n",
       "</div>"
      ],
      "text/plain": [
       "             当天high        前天high        昨天high        后天high        明天high  \\\n",
       "count  28670.000000  28670.000000  28670.000000  28670.000000  28670.000000   \n",
       "mean      27.774259     27.610638     27.706174     28.025881     27.889083   \n",
       "std        5.721558      8.243898      7.578337      5.600427      5.677268   \n",
       "min        3.000000      3.000000      3.000000      3.000000      3.000000   \n",
       "25%       24.000000     24.000000     24.000000     25.000000     24.000000   \n",
       "50%       29.000000     28.000000     29.000000     29.000000     29.000000   \n",
       "75%       32.000000     32.000000     32.000000     32.000000     32.000000   \n",
       "max       47.000000    664.000000    664.000000     47.000000     47.000000   \n",
       "\n",
       "              当天low         前天Low         昨天Low         后天Low         明天Low  \\\n",
       "count  28670.000000  28670.000000  28670.000000  28670.000000  28670.000000   \n",
       "mean      17.461493     17.235228     17.345274     17.715138     17.579630   \n",
       "std        6.527908      6.543707      6.540038      6.480242      6.511491   \n",
       "min      -13.000000    -13.000000    -13.000000    -13.000000    -13.000000   \n",
       "25%       13.000000     13.000000     13.000000     14.000000     14.000000   \n",
       "50%       18.000000     18.000000     18.000000     18.000000     18.000000   \n",
       "75%       23.000000     23.000000     23.000000     23.000000     23.000000   \n",
       "max       33.000000     33.000000     33.000000     33.000000     33.000000   \n",
       "\n",
       "               明今温差          后今温差  \n",
       "count  28670.000000  28670.000000  \n",
       "mean       0.114824      0.251622  \n",
       "std        3.060610      3.952016  \n",
       "min      -16.000000    -20.000000  \n",
       "25%       -1.000000     -2.000000  \n",
       "50%        0.000000      0.000000  \n",
       "75%        2.000000      3.000000  \n",
       "max       15.000000     16.000000  "
      ]
     },
     "execution_count": 9,
     "metadata": {},
     "output_type": "execute_result"
    }
   ],
   "source": [
    "weather_ = weather_.query('明今温差<50&明今温差>-50&后今温差<50&后今温差>-50')#基于tableau的视图\n",
    "weather_.describe()       #查看数据极值，确认异常值排除正确"
   ]
  },
  {
   "cell_type": "markdown",
   "id": "22523d4f",
   "metadata": {},
   "source": [
    "## KMeans "
   ]
  },
  {
   "cell_type": "code",
   "execution_count": 10,
   "id": "bf2811a3",
   "metadata": {},
   "outputs": [],
   "source": [
    "X = weather_[['明今温差','后今温差']].values  #设置自变量X\n",
    "y = KMeans(n_clusters=3,random_state=1) #将因变量y的模型选择为KMeans，设置分为3类，默认不重新分配标签\n",
    "y_pred = y.fit_predict(X)   #训练模型，将标签值返回到y_pred\n",
    "y_pred = y_pred.reshape(len(X),1)   #将标签值由行转为列\n",
    "weather_['天气标签'] = y_pred   #将标签值设置为天气标签字段"
   ]
  },
  {
   "cell_type": "code",
   "execution_count": 11,
   "id": "a0d20e24",
   "metadata": {},
   "outputs": [
    {
     "data": {
      "text/plain": [
       "array([[1., 5.],\n",
       "       [4., 5.],\n",
       "       [1., 0.],\n",
       "       ...,\n",
       "       [2., 3.],\n",
       "       [1., 3.],\n",
       "       [2., 4.]])"
      ]
     },
     "execution_count": 11,
     "metadata": {},
     "output_type": "execute_result"
    }
   ],
   "source": [
    "X    #参考KMeans算法原理，坐标"
   ]
  },
  {
   "cell_type": "code",
   "execution_count": 12,
   "id": "46e67fe8",
   "metadata": {},
   "outputs": [
    {
     "data": {
      "text/plain": [
       "array([[1],\n",
       "       [1],\n",
       "       [0],\n",
       "       ...,\n",
       "       [1],\n",
       "       [0],\n",
       "       [1]])"
      ]
     },
     "execution_count": 12,
     "metadata": {},
     "output_type": "execute_result"
    }
   ],
   "source": [
    "y_pred"
   ]
  },
  {
   "cell_type": "code",
   "execution_count": 13,
   "id": "5031c912",
   "metadata": {},
   "outputs": [
    {
     "data": {
      "image/png": "[encoded data removed]",
      "text/plain": [
       "<Figure size 432x288 with 1 Axes>"
      ]
     },
     "metadata": {},
     "output_type": "display_data"
    }
   ],
   "source": [
    "scatter = plt.scatter(X[:,0],X[:,1],c=y_pred) #行列分别为明今温差、后今温差，颜色为天气标签\n",
    "plt.legend(*scatter.legend_elements()) #显示图例\n",
    "plt.show()"
   ]
  },
  {
   "cell_type": "markdown",
   "id": "c7698a83",
   "metadata": {},
   "source": [
    "# 逻辑回归"
   ]
  },
  {
   "cell_type": "markdown",
   "id": "fd232d70",
   "metadata": {},
   "source": [
    "    先用聚类算法，再用回归算法根据分类结果进行二分类。"
   ]
  },
  {
   "cell_type": "code",
   "execution_count": 14,
   "id": "896787e2",
   "metadata": {},
   "outputs": [
    {
     "data": {
      "text/plain": [
       "1.0"
      ]
     },
     "execution_count": 14,
     "metadata": {},
     "output_type": "execute_result"
    }
   ],
   "source": [
    "weather_['是否升温'] = '?'  #为逻辑回归准备好一列是否升温\n",
    "weather_.loc[(weather_.天气标签==0)|(weather_.天气标签==2),'是否升温'] = '0' #给是否升温打上标签0\n",
    "weather_.loc[(weather_.天气标签==1),'是否升温'] = '1' #是快速升温城市则为1\n",
    "\n",
    "weather_x = weather_[['明今温差','后今温差']].values#设置逻辑函数自变量X\n",
    "weather_y = weather_['是否升温'].values #设置逻辑函数因变量Y\n",
    "x_train,x_test,y_train,y_test = train_test_split(weather_x,weather_y,train_size=0.8)#切分数据集80%为训练集，20%为测试集\n",
    "\n",
    "w_model =LogisticRegression() #将模型设置为逻辑回归模型\n",
    "w_model.fit(x_train,y_train) # 基于训练集训练模型\n",
    "w_model.score(x_test,y_test)"
   ]
  },
  {
   "cell_type": "code",
   "execution_count": 15,
   "id": "97a3dcab",
   "metadata": {},
   "outputs": [
    {
     "data": {
      "text/plain": [
       "array(['1', '1', '0', ..., '1', '0', '1'], dtype=object)"
      ]
     },
     "execution_count": 15,
     "metadata": {},
     "output_type": "execute_result"
    }
   ],
   "source": [
    "weather_y"
   ]
  },
  {
   "cell_type": "markdown",
   "id": "4abcc54f",
   "metadata": {},
   "source": [
    "# 函数部署"
   ]
  },
  {
   "cell_type": "markdown",
   "id": "8a444f73",
   "metadata": {},
   "source": [
    "##  kmeans"
   ]
  },
  {
   "cell_type": "code",
   "execution_count": 60,
   "id": "7eb71933",
   "metadata": {},
   "outputs": [],
   "source": [
    "def kmean(today,tmr,atmr):\n",
    "    dic = {'今温':today,'明温':tmr,'后温':atmr}  #创建为一个字典\n",
    "    wea = pd.DataFrame(dic)    #将字典转换为dataframe格式\n",
    "    \n",
    "    v1 = round(wea[~wea.isin(wea.query('今温>50|明温>50|后温>50'))]['今温'].mean())\n",
    "    wea.loc[wea.今温>50,'今温'] = v1  # 将今天温度>50度的行，赋予平均值\n",
    "    wea[\"今温\"] = wea['今温'].fillna(v1)   #将今天温度=空值的行，赋予平均值\n",
    "    \n",
    "    v2 = round(wea[~wea.isin(wea.query('今温>50|明温>50|后温>50'))]['明温'].mean())\n",
    "    wea.loc[wea.明温>50,'明温'] = v2\n",
    "    wea['明温'] = wea['明温'].fillna(v2)\n",
    "    \n",
    "    v3 = round(wea[~wea.isin(wea.query('今温>50|明温>50|后温>50'))]['后温'].mean())\n",
    "    wea.loc[wea.后温>50,'后温'] = v3\n",
    "    wea['后温'] = wea['后温'].fillna(v3)\n",
    "    \n",
    "    diff1 = wea.明温-wea.今温\n",
    "    diff2 = wea.后温-wea.今温\n",
    "    \n",
    "    diff_X = np.column_stack([diff1,diff2])  #将diff1与diff2作为列拼接在一起\n",
    "    y_pred = y.fit_predict(diff_X)\n",
    "    return y_pred.tolist()  #将y_pred的数据类型转换为列表，因为tableau只接受列表"
   ]
  },
  {
   "cell_type": "code",
   "execution_count": 51,
   "id": "82324971",
   "metadata": {},
   "outputs": [
    {
     "data": {
      "text/plain": [
       "[2, 0, 1]"
      ]
     },
     "execution_count": 51,
     "metadata": {},
     "output_type": "execute_result"
    }
   ],
   "source": [
    "kmean([19,25,27],\n",
    "      [22,15,28],\n",
    "      [25,26,29])"
   ]
  },
  {
   "cell_type": "code",
   "execution_count": 58,
   "id": "1478fd8b",
   "metadata": {},
   "outputs": [
    {
     "name": "stdout",
     "output_type": "stream",
     "text": [
      "成功部署函数\n"
     ]
    }
   ],
   "source": [
    "client.deploy(name = 'kmean',obj = kmean,override = True) #将kmean模型部署为别名为kmean的模型，原名与别名都可以使用\n",
    "print('成功部署函数')"
   ]
  },
  {
   "cell_type": "markdown",
   "id": "4fa5b2d0",
   "metadata": {},
   "source": [
    "## 天气判断（逻辑回归的y）"
   ]
  },
  {
   "cell_type": "code",
   "execution_count": 52,
   "id": "e8a7b501",
   "metadata": {},
   "outputs": [],
   "source": [
    "def judge(y_pred): #依据聚类结果转换为逻辑回归的判断\n",
    "    list_ = []  #创建一个空列表\n",
    "    for i in y_pred: #遍历y_pred中的每个值\n",
    "        if i == 1: #如果值为0\n",
    "            a = 1  #那么a = 1\n",
    "        else:\n",
    "            a = 0\n",
    "        list_.append(a) #将a放进列表里\n",
    "    return list_"
   ]
  },
  {
   "cell_type": "code",
   "execution_count": 53,
   "id": "dab66608",
   "metadata": {},
   "outputs": [
    {
     "name": "stdout",
     "output_type": "stream",
     "text": [
      "成功部署函数\n"
     ]
    }
   ],
   "source": [
    "client.deploy(name = 'judge',obj = judge,override = True)\n",
    "print('成功部署函数')"
   ]
  },
  {
   "cell_type": "markdown",
   "id": "e2b24b99",
   "metadata": {},
   "source": [
    "## 逻辑回归"
   ]
  },
  {
   "cell_type": "code",
   "execution_count": 54,
   "id": "565c066b",
   "metadata": {},
   "outputs": [],
   "source": [
    "def LR(x1,x2):\n",
    "    X = np.column_stack([x1,x2]) #将x1,x2作为列拼接在一起\n",
    "    return w_model.predict(X).tolist()"
   ]
  },
  {
   "cell_type": "code",
   "execution_count": 55,
   "id": "b57655f4",
   "metadata": {},
   "outputs": [
    {
     "name": "stdout",
     "output_type": "stream",
     "text": [
      "成功部署函数\n"
     ]
    }
   ],
   "source": [
    "client.deploy(name = 'LR',obj = LR,override = True)\n",
    "print('成功部署函数')"
   ]
  },
  {
   "cell_type": "markdown",
   "id": "9a58c09d",
   "metadata": {},
   "source": [
    "## 特征自调逻辑回归"
   ]
  },
  {
   "cell_type": "code",
   "execution_count": 56,
   "id": "4c514391",
   "metadata": {},
   "outputs": [],
   "source": [
    "def my_pred(x1,x2):\n",
    "    X = np.column_stack([x1,x2]) #将x1,x2作为列拼接在一起\n",
    "    return w_model.predict(X).tolist()[0]"
   ]
  },
  {
   "cell_type": "code",
   "execution_count": 57,
   "id": "00261b03",
   "metadata": {},
   "outputs": [
    {
     "name": "stdout",
     "output_type": "stream",
     "text": [
      "成功部署函数\n"
     ]
    }
   ],
   "source": [
    "client.deploy(name = 'my_pred',obj = my_pred,override = True)\n",
    "print('成功部署函数')"
   ]
  },
  {
   "cell_type": "code",
   "execution_count": null,
   "id": "d81045c4",
   "metadata": {},
   "outputs": [],
   "source": []
  }
 ],
 "metadata": {
  "kernelspec": {
   "display_name": "Python [conda env:Tableau-Python-Server]",
   "language": "python",
   "name": "conda-env-Tableau-Python-Server-py"
  },
  "language_info": {
   "codemirror_mode": {
    "name": "ipython",
    "version": 3
   },
   "file_extension": ".py",
   "mimetype": "text/x-python",
   "name": "python",
   "nbconvert_exporter": "python",
   "pygments_lexer": "ipython3",
   "version": "3.7.11"
  },
  "toc": {
   "base_numbering": 1,
   "nav_menu": {},
   "number_sections": true,
   "sideBar": true,
   "skip_h1_title": false,
   "title_cell": "Table of Contents",
   "title_sidebar": "Contents",
   "toc_cell": false,
   "toc_position": {},
   "toc_section_display": true,
   "toc_window_display": false
  }
 },
 "nbformat": 4,
 "nbformat_minor": 5
}
