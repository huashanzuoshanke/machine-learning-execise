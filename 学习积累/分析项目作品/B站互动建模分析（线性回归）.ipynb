{
 "cells": [
  {
   "cell_type": "markdown",
   "id": "1bd6b6e7",
   "metadata": {},
   "source": [
    "# 包导入"
   ]
  },
  {
   "cell_type": "code",
   "execution_count": 1,
   "id": "55e731e7",
   "metadata": {},
   "outputs": [],
   "source": [
    "from sklearn.linear_model import LinearRegression \n",
    "from sklearn import preprocessing  #预处理\n",
    "import pandas as pd\n",
    "import numpy as np\n",
    "import matplotlib.pyplot as plt\n",
    "np.set_printoptions(suppress=True) #显示科学计数法\n",
    "from sklearn.model_selection import train_test_split #数据集划分\n",
    "import seaborn as sns \n",
    "\n",
    "%matplotlib inline\n",
    "plt.rcParams['font.sans-serif']=['SimHei'] #设置中文字体为黑体\n",
    "plt.rcParams['axes.unicode_minus'] = False #正常显示负号\n",
    "np.set_printoptions(suppress= True)"
   ]
  },
  {
   "cell_type": "markdown",
   "id": "f089b65f",
   "metadata": {},
   "source": [
    "# 数据的读取与处理"
   ]
  },
  {
   "cell_type": "code",
   "execution_count": 2,
   "id": "2e54fb06",
   "metadata": {},
   "outputs": [],
   "source": [
    "df_path = 'D:\\\\dataanalyse\\\\learning_materials\\\\大工具课第二期\\\\自己实操\\\\项目三\\\\B站数据.xlsx'\n",
    "bili = pd.read_excel(df_path)"
   ]
  },
  {
   "cell_type": "code",
   "execution_count": 3,
   "id": "08355db8",
   "metadata": {},
   "outputs": [
    {
     "name": "stdout",
     "output_type": "stream",
     "text": [
      "<class 'pandas.core.frame.DataFrame'>\n",
      "RangeIndex: 422 entries, 0 to 421\n",
      "Data columns (total 11 columns):\n",
      " #   Column  Non-Null Count  Dtype         \n",
      "---  ------  --------------  -----         \n",
      " 0   转发      422 non-null    int64         \n",
      " 1   收藏      422 non-null    int64         \n",
      " 2   投币      422 non-null    int64         \n",
      " 3   点赞      422 non-null    int64         \n",
      " 4   弹幕数     422 non-null    int64         \n",
      " 5   播放数     422 non-null    int64         \n",
      " 6   所属分区    422 non-null    object        \n",
      " 7   排名      400 non-null    float64       \n",
      " 8   up主     400 non-null    object        \n",
      " 9   视频标题    422 non-null    object        \n",
      " 10  发布时间    422 non-null    datetime64[ns]\n",
      "dtypes: datetime64[ns](1), float64(1), int64(6), object(3)\n",
      "memory usage: 36.4+ KB\n"
     ]
    }
   ],
   "source": [
    "bili.info()"
   ]
  },
  {
   "cell_type": "code",
   "execution_count": 4,
   "id": "11dfdccb",
   "metadata": {},
   "outputs": [
    {
     "data": {
      "text/plain": [
       "array(['游戏区', '舞蹈区', '知识区', '全站'], dtype=object)"
      ]
     },
     "execution_count": 4,
     "metadata": {},
     "output_type": "execute_result"
    }
   ],
   "source": [
    "bili.所属分区.unique()  #查看有哪些分区的数据"
   ]
  },
  {
   "cell_type": "code",
   "execution_count": 5,
   "id": "bbf9ec0b",
   "metadata": {},
   "outputs": [
    {
     "data": {
      "text/html": [
       "<div>\n",
       "<style scoped>\n",
       "    .dataframe tbody tr th:only-of-type {\n",
       "        vertical-align: middle;\n",
       "    }\n",
       "\n",
       "    .dataframe tbody tr th {\n",
       "        vertical-align: top;\n",
       "    }\n",
       "\n",
       "    .dataframe thead th {\n",
       "        text-align: right;\n",
       "    }\n",
       "</style>\n",
       "<table border=\"1\" class=\"dataframe\">\n",
       "  <thead>\n",
       "    <tr style=\"text-align: right;\">\n",
       "      <th></th>\n",
       "      <th>转发</th>\n",
       "      <th>收藏</th>\n",
       "      <th>投币</th>\n",
       "      <th>点赞</th>\n",
       "      <th>弹幕数</th>\n",
       "      <th>播放数</th>\n",
       "      <th>所属分区</th>\n",
       "      <th>排名</th>\n",
       "      <th>up主</th>\n",
       "      <th>视频标题</th>\n",
       "      <th>发布时间</th>\n",
       "    </tr>\n",
       "  </thead>\n",
       "  <tbody>\n",
       "    <tr>\n",
       "      <th>0</th>\n",
       "      <td>131</td>\n",
       "      <td>4756</td>\n",
       "      <td>14000</td>\n",
       "      <td>56000</td>\n",
       "      <td>1660</td>\n",
       "      <td>372000</td>\n",
       "      <td>游戏区</td>\n",
       "      <td>55.0</td>\n",
       "      <td>Allen火花</td>\n",
       "      <td>【我一定要成为爆枪英雄】暴君！轻一点！</td>\n",
       "      <td>2021-07-09 12:38:17</td>\n",
       "    </tr>\n",
       "    <tr>\n",
       "      <th>1</th>\n",
       "      <td>1419</td>\n",
       "      <td>3345</td>\n",
       "      <td>8765</td>\n",
       "      <td>76000</td>\n",
       "      <td>1435</td>\n",
       "      <td>754000</td>\n",
       "      <td>游戏区</td>\n",
       "      <td>16.0</td>\n",
       "      <td>经常口胡的管子</td>\n",
       "      <td>当五个回复能力极强的英雄聚在一起！五奶不死流诞生了</td>\n",
       "      <td>2021-07-10 11:40:00</td>\n",
       "    </tr>\n",
       "    <tr>\n",
       "      <th>2</th>\n",
       "      <td>243</td>\n",
       "      <td>1737</td>\n",
       "      <td>595</td>\n",
       "      <td>3061</td>\n",
       "      <td>137</td>\n",
       "      <td>53000</td>\n",
       "      <td>舞蹈区</td>\n",
       "      <td>70.0</td>\n",
       "      <td>百度金泰妍吧</td>\n",
       "      <td>【金泰妍】1thK Weekend Performance特别版4k</td>\n",
       "      <td>2021-07-09 18:53:19</td>\n",
       "    </tr>\n",
       "    <tr>\n",
       "      <th>3</th>\n",
       "      <td>322</td>\n",
       "      <td>2588</td>\n",
       "      <td>5743</td>\n",
       "      <td>28000</td>\n",
       "      <td>2163</td>\n",
       "      <td>274000</td>\n",
       "      <td>知识区</td>\n",
       "      <td>35.0</td>\n",
       "      <td>影视飓风</td>\n",
       "      <td>【UP主画质改造】8小时极限爆改小白测评工作室！</td>\n",
       "      <td>2021-07-09 17:05:38</td>\n",
       "    </tr>\n",
       "    <tr>\n",
       "      <th>4</th>\n",
       "      <td>163</td>\n",
       "      <td>1066</td>\n",
       "      <td>541</td>\n",
       "      <td>1438</td>\n",
       "      <td>13</td>\n",
       "      <td>19000</td>\n",
       "      <td>知识区</td>\n",
       "      <td>NaN</td>\n",
       "      <td>NaN</td>\n",
       "      <td>教大家一个在职场非常实用的爬虫小技巧，人人都能学会~</td>\n",
       "      <td>2020-06-28 21:00:28</td>\n",
       "    </tr>\n",
       "  </tbody>\n",
       "</table>\n",
       "</div>"
      ],
      "text/plain": [
       "     转发    收藏     投币     点赞   弹幕数     播放数 所属分区    排名      up主  \\\n",
       "0   131  4756  14000  56000  1660  372000  游戏区  55.0  Allen火花   \n",
       "1  1419  3345   8765  76000  1435  754000  游戏区  16.0  经常口胡的管子   \n",
       "2   243  1737    595   3061   137   53000  舞蹈区  70.0   百度金泰妍吧   \n",
       "3   322  2588   5743  28000  2163  274000  知识区  35.0     影视飓风   \n",
       "4   163  1066    541   1438    13   19000  知识区   NaN      NaN   \n",
       "\n",
       "                                 视频标题                发布时间  \n",
       "0                 【我一定要成为爆枪英雄】暴君！轻一点！ 2021-07-09 12:38:17  \n",
       "1           当五个回复能力极强的英雄聚在一起！五奶不死流诞生了 2021-07-10 11:40:00  \n",
       "2  【金泰妍】1thK Weekend Performance特别版4k 2021-07-09 18:53:19  \n",
       "3            【UP主画质改造】8小时极限爆改小白测评工作室！ 2021-07-09 17:05:38  \n",
       "4          教大家一个在职场非常实用的爬虫小技巧，人人都能学会~ 2020-06-28 21:00:28  "
      ]
     },
     "execution_count": 5,
     "metadata": {},
     "output_type": "execute_result"
    }
   ],
   "source": [
    "bili.head()"
   ]
  },
  {
   "cell_type": "code",
   "execution_count": 6,
   "id": "127dae6e",
   "metadata": {},
   "outputs": [],
   "source": [
    "#数据切分\n",
    "game= bili[bili.所属分区.str.contains('游戏区')]\n",
    "knowledge = bili[bili.所属分区.str.contains('知识区')]\n",
    "dance= bili[bili.所属分区.str.contains('舞蹈区')]\n",
    "\n",
    "#将 up主空白地方填充上戴师兄\n",
    "bili.loc[bili.up主.isna(),'up主']= '戴师兄'\n",
    "dsx= bili[bili.up主.str.contains('戴师兄')]"
   ]
  },
  {
   "cell_type": "code",
   "execution_count": 7,
   "id": "638778de",
   "metadata": {},
   "outputs": [
    {
     "data": {
      "text/html": [
       "<div>\n",
       "<style scoped>\n",
       "    .dataframe tbody tr th:only-of-type {\n",
       "        vertical-align: middle;\n",
       "    }\n",
       "\n",
       "    .dataframe tbody tr th {\n",
       "        vertical-align: top;\n",
       "    }\n",
       "\n",
       "    .dataframe thead th {\n",
       "        text-align: right;\n",
       "    }\n",
       "</style>\n",
       "<table border=\"1\" class=\"dataframe\">\n",
       "  <thead>\n",
       "    <tr style=\"text-align: right;\">\n",
       "      <th></th>\n",
       "      <th>转发</th>\n",
       "      <th>收藏</th>\n",
       "      <th>投币</th>\n",
       "      <th>点赞</th>\n",
       "      <th>弹幕数</th>\n",
       "      <th>播放数</th>\n",
       "      <th>所属分区</th>\n",
       "      <th>排名</th>\n",
       "      <th>up主</th>\n",
       "      <th>视频标题</th>\n",
       "      <th>发布时间</th>\n",
       "    </tr>\n",
       "  </thead>\n",
       "  <tbody>\n",
       "    <tr>\n",
       "      <th>4</th>\n",
       "      <td>163</td>\n",
       "      <td>1066</td>\n",
       "      <td>541</td>\n",
       "      <td>1438</td>\n",
       "      <td>13</td>\n",
       "      <td>19000</td>\n",
       "      <td>知识区</td>\n",
       "      <td>NaN</td>\n",
       "      <td>戴师兄</td>\n",
       "      <td>教大家一个在职场非常实用的爬虫小技巧，人人都能学会~</td>\n",
       "      <td>2020-06-28 21:00:28</td>\n",
       "    </tr>\n",
       "    <tr>\n",
       "      <th>68</th>\n",
       "      <td>78</td>\n",
       "      <td>938</td>\n",
       "      <td>604</td>\n",
       "      <td>730</td>\n",
       "      <td>309</td>\n",
       "      <td>14000</td>\n",
       "      <td>知识区</td>\n",
       "      <td>NaN</td>\n",
       "      <td>戴师兄</td>\n",
       "      <td>【戴师兄】数据分析业务真题讲解，看完就能掌握7步解题法哦~</td>\n",
       "      <td>2020-08-13 20:00:55</td>\n",
       "    </tr>\n",
       "    <tr>\n",
       "      <th>115</th>\n",
       "      <td>75</td>\n",
       "      <td>926</td>\n",
       "      <td>787</td>\n",
       "      <td>866</td>\n",
       "      <td>210</td>\n",
       "      <td>17000</td>\n",
       "      <td>知识区</td>\n",
       "      <td>NaN</td>\n",
       "      <td>戴师兄</td>\n",
       "      <td>【戴师兄】Tableau动态图表/动态仪表盘制作教程|数据动图教程|动态可视化教程|SQL教...</td>\n",
       "      <td>2020-08-18 20:38:52</td>\n",
       "    </tr>\n",
       "    <tr>\n",
       "      <th>118</th>\n",
       "      <td>112</td>\n",
       "      <td>1605</td>\n",
       "      <td>1032</td>\n",
       "      <td>1312</td>\n",
       "      <td>271</td>\n",
       "      <td>24000</td>\n",
       "      <td>知识区</td>\n",
       "      <td>NaN</td>\n",
       "      <td>戴师兄</td>\n",
       "      <td>【数据分析求职/找实习全攻略】数据分析要学什么？如何制作数据作品？面试常见问题如何回答？数分...</td>\n",
       "      <td>2020-07-09 02:36:43</td>\n",
       "    </tr>\n",
       "    <tr>\n",
       "      <th>119</th>\n",
       "      <td>81</td>\n",
       "      <td>534</td>\n",
       "      <td>319</td>\n",
       "      <td>482</td>\n",
       "      <td>53</td>\n",
       "      <td>8990</td>\n",
       "      <td>知识区</td>\n",
       "      <td>NaN</td>\n",
       "      <td>戴师兄</td>\n",
       "      <td>全网最良心的【简历制作攻略】它来了！转行怎么写简历？如何针对新岗位进行简历升级？简历没内容可...</td>\n",
       "      <td>2021-03-29 21:46:29</td>\n",
       "    </tr>\n",
       "  </tbody>\n",
       "</table>\n",
       "</div>"
      ],
      "text/plain": [
       "      转发    收藏    投币    点赞  弹幕数    播放数 所属分区  排名  up主  \\\n",
       "4    163  1066   541  1438   13  19000  知识区 NaN  戴师兄   \n",
       "68    78   938   604   730  309  14000  知识区 NaN  戴师兄   \n",
       "115   75   926   787   866  210  17000  知识区 NaN  戴师兄   \n",
       "118  112  1605  1032  1312  271  24000  知识区 NaN  戴师兄   \n",
       "119   81   534   319   482   53   8990  知识区 NaN  戴师兄   \n",
       "\n",
       "                                                  视频标题                发布时间  \n",
       "4                           教大家一个在职场非常实用的爬虫小技巧，人人都能学会~ 2020-06-28 21:00:28  \n",
       "68                       【戴师兄】数据分析业务真题讲解，看完就能掌握7步解题法哦~ 2020-08-13 20:00:55  \n",
       "115  【戴师兄】Tableau动态图表/动态仪表盘制作教程|数据动图教程|动态可视化教程|SQL教... 2020-08-18 20:38:52  \n",
       "118  【数据分析求职/找实习全攻略】数据分析要学什么？如何制作数据作品？面试常见问题如何回答？数分... 2020-07-09 02:36:43  \n",
       "119  全网最良心的【简历制作攻略】它来了！转行怎么写简历？如何针对新岗位进行简历升级？简历没内容可... 2021-03-29 21:46:29  "
      ]
     },
     "execution_count": 7,
     "metadata": {},
     "output_type": "execute_result"
    }
   ],
   "source": [
    "dsx.head(5)"
   ]
  },
  {
   "cell_type": "markdown",
   "id": "236aa06b",
   "metadata": {},
   "source": [
    "# 相关性矩阵散点图"
   ]
  },
  {
   "cell_type": "markdown",
   "id": "4717bfb5",
   "metadata": {},
   "source": [
    "## 游戏区"
   ]
  },
  {
   "cell_type": "code",
   "execution_count": 41,
   "id": "6bae4269",
   "metadata": {},
   "outputs": [
    {
     "data": {
      "text/plain": [
       "<seaborn.axisgrid.PairGrid at 0x228768305e0>"
      ]
     },
     "execution_count": 41,
     "metadata": {},
     "output_type": "execute_result"
    },
    {
     "data": {
      "image/png": "[encoded data removed]",
      "text/plain": [
       "<Figure size 2160x360 with 6 Axes>"
      ]
     },
     "metadata": {
      "needs_background": "light"
     },
     "output_type": "display_data"
    }
   ],
   "source": [
    "#fig = plt.figure(figsize=(20,8))\n",
    "sns.pairplot(game\n",
    "            ,kind='reg'\n",
    "            ,x_vars = ['弹幕数','点赞','投币','转发','收藏','排名']\n",
    "            ,y_vars =['播放数']\n",
    "            ,height = 5)"
   ]
  },
  {
   "cell_type": "markdown",
   "id": "56463cb2",
   "metadata": {},
   "source": [
    "## 知识区"
   ]
  },
  {
   "cell_type": "code",
   "execution_count": 42,
   "id": "82262b83",
   "metadata": {},
   "outputs": [
    {
     "data": {
      "text/plain": [
       "<seaborn.axisgrid.PairGrid at 0x22877009d00>"
      ]
     },
     "execution_count": 42,
     "metadata": {},
     "output_type": "execute_result"
    },
    {
     "data": {
      "image/png": "[encoded data removed]",
      "text/plain": [
       "<Figure size 2160x360 with 6 Axes>"
      ]
     },
     "metadata": {
      "needs_background": "light"
     },
     "output_type": "display_data"
    }
   ],
   "source": [
    "sns.pairplot(knowledge\n",
    "            ,kind='reg'\n",
    "            ,x_vars = ['弹幕数','点赞','投币','转发','收藏','排名']\n",
    "            ,y_vars =['播放数']\n",
    "            ,height = 5)   #调整大小"
   ]
  },
  {
   "cell_type": "markdown",
   "id": "f920465c",
   "metadata": {},
   "source": [
    "## 舞蹈区"
   ]
  },
  {
   "cell_type": "code",
   "execution_count": 43,
   "id": "fcf6d2a7",
   "metadata": {},
   "outputs": [
    {
     "data": {
      "text/plain": [
       "<seaborn.axisgrid.PairGrid at 0x22877853fd0>"
      ]
     },
     "execution_count": 43,
     "metadata": {},
     "output_type": "execute_result"
    },
    {
     "data": {
      "image/png": "[encoded data removed]",
      "text/plain": [
       "<Figure size 2160x360 with 6 Axes>"
      ]
     },
     "metadata": {
      "needs_background": "light"
     },
     "output_type": "display_data"
    }
   ],
   "source": [
    "sns.pairplot(dance\n",
    "            ,kind='reg'\n",
    "            ,x_vars = ['弹幕数','点赞','投币','转发','收藏','排名']\n",
    "            ,y_vars =['播放数']\n",
    "            ,height = 5)   #调整大小"
   ]
  },
  {
   "cell_type": "markdown",
   "id": "12dbc1f0",
   "metadata": {},
   "source": [
    "# 各变量和播放量的相关性"
   ]
  },
  {
   "cell_type": "markdown",
   "id": "91231a07",
   "metadata": {},
   "source": [
    "## 整体数据的相关性"
   ]
  },
  {
   "cell_type": "code",
   "execution_count": 11,
   "id": "0c63f485",
   "metadata": {},
   "outputs": [
    {
     "data": {
      "text/html": [
       "<div>\n",
       "<style scoped>\n",
       "    .dataframe tbody tr th:only-of-type {\n",
       "        vertical-align: middle;\n",
       "    }\n",
       "\n",
       "    .dataframe tbody tr th {\n",
       "        vertical-align: top;\n",
       "    }\n",
       "\n",
       "    .dataframe thead th {\n",
       "        text-align: right;\n",
       "    }\n",
       "</style>\n",
       "<table border=\"1\" class=\"dataframe\">\n",
       "  <thead>\n",
       "    <tr style=\"text-align: right;\">\n",
       "      <th></th>\n",
       "      <th>转发</th>\n",
       "      <th>收藏</th>\n",
       "      <th>投币</th>\n",
       "      <th>点赞</th>\n",
       "      <th>弹幕数</th>\n",
       "      <th>播放数</th>\n",
       "      <th>排名</th>\n",
       "    </tr>\n",
       "  </thead>\n",
       "  <tbody>\n",
       "    <tr>\n",
       "      <th>转发</th>\n",
       "      <td>1.000000</td>\n",
       "      <td>0.985417</td>\n",
       "      <td>0.804787</td>\n",
       "      <td>0.917486</td>\n",
       "      <td>0.031725</td>\n",
       "      <td>0.071726</td>\n",
       "      <td>-0.082214</td>\n",
       "    </tr>\n",
       "    <tr>\n",
       "      <th>收藏</th>\n",
       "      <td>0.985417</td>\n",
       "      <td>1.000000</td>\n",
       "      <td>0.850371</td>\n",
       "      <td>0.937324</td>\n",
       "      <td>0.037104</td>\n",
       "      <td>0.067162</td>\n",
       "      <td>-0.098491</td>\n",
       "    </tr>\n",
       "    <tr>\n",
       "      <th>投币</th>\n",
       "      <td>0.804787</td>\n",
       "      <td>0.850371</td>\n",
       "      <td>1.000000</td>\n",
       "      <td>0.942077</td>\n",
       "      <td>0.065733</td>\n",
       "      <td>0.201083</td>\n",
       "      <td>-0.131009</td>\n",
       "    </tr>\n",
       "    <tr>\n",
       "      <th>点赞</th>\n",
       "      <td>0.917486</td>\n",
       "      <td>0.937324</td>\n",
       "      <td>0.942077</td>\n",
       "      <td>1.000000</td>\n",
       "      <td>0.063933</td>\n",
       "      <td>0.225491</td>\n",
       "      <td>-0.130393</td>\n",
       "    </tr>\n",
       "    <tr>\n",
       "      <th>弹幕数</th>\n",
       "      <td>0.031725</td>\n",
       "      <td>0.037104</td>\n",
       "      <td>0.065733</td>\n",
       "      <td>0.063933</td>\n",
       "      <td>1.000000</td>\n",
       "      <td>0.361055</td>\n",
       "      <td>-0.157651</td>\n",
       "    </tr>\n",
       "    <tr>\n",
       "      <th>播放数</th>\n",
       "      <td>0.071726</td>\n",
       "      <td>0.067162</td>\n",
       "      <td>0.201083</td>\n",
       "      <td>0.225491</td>\n",
       "      <td>0.361055</td>\n",
       "      <td>1.000000</td>\n",
       "      <td>-0.397054</td>\n",
       "    </tr>\n",
       "    <tr>\n",
       "      <th>排名</th>\n",
       "      <td>-0.082214</td>\n",
       "      <td>-0.098491</td>\n",
       "      <td>-0.131009</td>\n",
       "      <td>-0.130393</td>\n",
       "      <td>-0.157651</td>\n",
       "      <td>-0.397054</td>\n",
       "      <td>1.000000</td>\n",
       "    </tr>\n",
       "  </tbody>\n",
       "</table>\n",
       "</div>"
      ],
      "text/plain": [
       "           转发        收藏        投币        点赞       弹幕数       播放数        排名\n",
       "转发   1.000000  0.985417  0.804787  0.917486  0.031725  0.071726 -0.082214\n",
       "收藏   0.985417  1.000000  0.850371  0.937324  0.037104  0.067162 -0.098491\n",
       "投币   0.804787  0.850371  1.000000  0.942077  0.065733  0.201083 -0.131009\n",
       "点赞   0.917486  0.937324  0.942077  1.000000  0.063933  0.225491 -0.130393\n",
       "弹幕数  0.031725  0.037104  0.065733  0.063933  1.000000  0.361055 -0.157651\n",
       "播放数  0.071726  0.067162  0.201083  0.225491  0.361055  1.000000 -0.397054\n",
       "排名  -0.082214 -0.098491 -0.131009 -0.130393 -0.157651 -0.397054  1.000000"
      ]
     },
     "execution_count": 11,
     "metadata": {},
     "output_type": "execute_result"
    }
   ],
   "source": [
    "bili.corr()  #给出相关系数矩阵"
   ]
  },
  {
   "cell_type": "code",
   "execution_count": 12,
   "id": "e5c003cb",
   "metadata": {},
   "outputs": [
    {
     "data": {
      "text/plain": [
       "播放数    1.000000\n",
       "弹幕数    0.361055\n",
       "点赞     0.225491\n",
       "投币     0.201083\n",
       "转发     0.071726\n",
       "收藏     0.067162\n",
       "排名    -0.397054\n",
       "Name: 播放数, dtype: float64"
      ]
     },
     "execution_count": 12,
     "metadata": {},
     "output_type": "execute_result"
    }
   ],
   "source": [
    "bili.corr()['播放数'].sort_values(ascending=False)   #改进 只显示播放数与其他变量之间的相关系数"
   ]
  },
  {
   "cell_type": "markdown",
   "id": "ed9d1c90",
   "metadata": {},
   "source": [
    "## 游戏区"
   ]
  },
  {
   "cell_type": "code",
   "execution_count": 13,
   "id": "7492f318",
   "metadata": {},
   "outputs": [
    {
     "data": {
      "text/plain": [
       "播放数    1.000000\n",
       "弹幕数    0.767067\n",
       "转发     0.732839\n",
       "点赞     0.684210\n",
       "收藏     0.616986\n",
       "投币     0.582462\n",
       "排名    -0.464442\n",
       "Name: 游戏区, dtype: float64"
      ]
     },
     "execution_count": 13,
     "metadata": {},
     "output_type": "execute_result"
    }
   ],
   "source": [
    "game.corr()['播放数'].sort_values(ascending=False).rename('游戏区')"
   ]
  },
  {
   "cell_type": "markdown",
   "id": "d979d973",
   "metadata": {},
   "source": [
    "## 知识区"
   ]
  },
  {
   "cell_type": "code",
   "execution_count": 14,
   "id": "a76ae162",
   "metadata": {},
   "outputs": [
    {
     "data": {
      "text/plain": [
       "播放数    1.000000\n",
       "弹幕数    0.396488\n",
       "转发     0.219498\n",
       "点赞     0.191857\n",
       "收藏     0.103799\n",
       "投币     0.072393\n",
       "排名    -0.625640\n",
       "Name: 知识区, dtype: float64"
      ]
     },
     "execution_count": 14,
     "metadata": {},
     "output_type": "execute_result"
    }
   ],
   "source": [
    "knowledge.corr()['播放数'].sort_values(ascending=False).rename('知识区')"
   ]
  },
  {
   "cell_type": "markdown",
   "id": "f76015b9",
   "metadata": {},
   "source": [
    "## 舞蹈区"
   ]
  },
  {
   "cell_type": "code",
   "execution_count": 15,
   "id": "b174b4a4",
   "metadata": {},
   "outputs": [
    {
     "data": {
      "text/plain": [
       "播放数    1.000000\n",
       "弹幕数    0.452911\n",
       "点赞     0.185009\n",
       "投币     0.160108\n",
       "转发     0.155496\n",
       "收藏     0.152634\n",
       "排名    -0.513211\n",
       "Name: 舞蹈区, dtype: float64"
      ]
     },
     "execution_count": 15,
     "metadata": {},
     "output_type": "execute_result"
    }
   ],
   "source": [
    "dance.corr()['播放数'].sort_values(ascending=False).rename('舞蹈区')"
   ]
  },
  {
   "cell_type": "markdown",
   "id": "026caeae",
   "metadata": {},
   "source": [
    "# 选取高相关性变量进行建模（切训练集和测试集）"
   ]
  },
  {
   "cell_type": "markdown",
   "id": "51bb9d13",
   "metadata": {},
   "source": [
    "## 游戏区"
   ]
  },
  {
   "cell_type": "code",
   "execution_count": 16,
   "id": "a117ca00",
   "metadata": {},
   "outputs": [
    {
     "name": "stdout",
     "output_type": "stream",
     "text": [
      "播放数    1.000000\n",
      "弹幕数    0.767067\n",
      "转发     0.732839\n",
      "点赞     0.684210\n",
      "收藏     0.616986\n",
      "投币     0.582462\n",
      "排名    -0.464442\n",
      "Name: 播放数, dtype: float64\n",
      "train_score:0.47402759269596595;cv_score:0.9184230025297684\n"
     ]
    }
   ],
   "source": [
    "game_x,game_y = game[['弹幕数','转发','点赞']],game['播放数']\n",
    "print(game.corr()['播放数'].sort_values(ascending=False))\n",
    "# 游戏区相关度最高分别为 弹幕、转发、点赞\n",
    "g_model = LinearRegression()\n",
    "gx_train,gx_test,gy_train,gy_test = train_test_split(game_x,game_y,train_size=0.8,random_state=0)\n",
    "g_model.fit(game_x,game_y)\n",
    "\n",
    "train_score = g_model.score(gx_train,gy_train)\n",
    "cv_score = g_model.score(gx_test,gy_test)\n",
    "print('train_score:{};cv_score:{}'.format(train_score,cv_score))"
   ]
  },
  {
   "cell_type": "markdown",
   "id": "ea0b401d",
   "metadata": {},
   "source": [
    "### 游戏区模型优化"
   ]
  },
  {
   "cell_type": "code",
   "execution_count": 17,
   "id": "07f51436",
   "metadata": {},
   "outputs": [
    {
     "name": "stdout",
     "output_type": "stream",
     "text": [
      "train_score:0.6890735664989927;cv_score:-10.925709448373526\n"
     ]
    }
   ],
   "source": [
    "from sklearn.linear_model import LinearRegression\n",
    "from sklearn.preprocessing import PolynomialFeatures\n",
    "from sklearn.pipeline import Pipeline\n",
    "\n",
    "#创建一个多项式拟合函数\n",
    "\n",
    "def polynoamial_model(degree = 1):\n",
    "    polynaomial_features = PolynomialFeatures(degree = degree,include_bias= False)\n",
    "    liner_regression = LinearRegression(normalize=True)  #nomalize 进行特征归一化\n",
    "    pipeline = Pipeline([(\"polynomial_features\",polynaomial_features),\n",
    "                        (\"liner_regression\",liner_regression)])\n",
    "    return pipeline\n",
    "\n",
    "# 二阶\n",
    "g2_model = polynoamial_model(degree=2)\n",
    "\n",
    "g2_model.fit(gx_train,gy_train)\n",
    "\n",
    "train_score = g2_model.score(gx_train,gy_train)\n",
    "cv_score =g2_model.score(gx_test,gy_test)\n",
    "print(\"train_score:{};cv_score:{}\".format(train_score,cv_score))"
   ]
  },
  {
   "cell_type": "markdown",
   "id": "9ccd71ad",
   "metadata": {},
   "source": [
    "说明\n",
    "    cv_score:-10.9257  数据太少，过拟合了"
   ]
  },
  {
   "cell_type": "markdown",
   "id": "41b12243",
   "metadata": {},
   "source": [
    "## 知识区"
   ]
  },
  {
   "cell_type": "code",
   "execution_count": 18,
   "id": "3f95bd6c",
   "metadata": {},
   "outputs": [
    {
     "name": "stdout",
     "output_type": "stream",
     "text": [
      "播放数    1.000000\n",
      "弹幕数    0.396488\n",
      "转发     0.219498\n",
      "点赞     0.191857\n",
      "收藏     0.103799\n",
      "投币     0.072393\n",
      "排名    -0.625640\n",
      "Name: 播放数, dtype: float64\n",
      "train_score:0.1079299814109137;cv_score:0.3037962370312163\n"
     ]
    }
   ],
   "source": [
    "knowledge_x , knowledge_y = knowledge[['弹幕数','转发','点赞']] , knowledge['播放数']\n",
    "print(knowledge.corr()['播放数'].sort_values(ascending=False))\n",
    "#知识区相关度最高分别为 弹幕、转发、点赞\n",
    "k_model = LinearRegression()\n",
    "kx_train, kx_test, ky_train, ky_test = train_test_split(knowledge_x, knowledge_y, train_size=.8,random_state=0)\n",
    "k_model.fit(knowledge_x,knowledge_y)\n",
    "\n",
    "train_score = k_model.score(kx_train,ky_train)\n",
    "cv_score = k_model.score(kx_test,ky_test)\n",
    "print('train_score:{};cv_score:{}'.format(train_score,cv_score))"
   ]
  },
  {
   "cell_type": "markdown",
   "id": "fd1d19d0",
   "metadata": {},
   "source": [
    "### 模型优化"
   ]
  },
  {
   "cell_type": "code",
   "execution_count": 19,
   "id": "479c6c38",
   "metadata": {},
   "outputs": [
    {
     "name": "stdout",
     "output_type": "stream",
     "text": [
      "train_score:0.48986025960611346;cv_score:0.6065518279335059\n"
     ]
    }
   ],
   "source": [
    "# 二阶\n",
    "k2_model = polynoamial_model(degree=2)\n",
    "\n",
    "k2_model.fit(kx_train,ky_train)\n",
    "\n",
    "train_score = k2_model.score(kx_train,ky_train)\n",
    "cv_score =k2_model.score(kx_test,ky_test)\n",
    "print(\"train_score:{};cv_score:{}\".format(train_score,cv_score))"
   ]
  },
  {
   "cell_type": "code",
   "execution_count": 20,
   "id": "4518d22d",
   "metadata": {},
   "outputs": [
    {
     "name": "stdout",
     "output_type": "stream",
     "text": [
      "train_score:0.6310612314438848;cv_score:-6.081322468093106\n"
     ]
    }
   ],
   "source": [
    "# 三阶\n",
    "k2_model = polynoamial_model(degree=3)\n",
    "\n",
    "k2_model.fit(kx_train,ky_train)\n",
    "\n",
    "train_score = k2_model.score(kx_train,ky_train)\n",
    "cv_score =k2_model.score(kx_test,ky_test)\n",
    "print(\"train_score:{};cv_score:{}\".format(train_score,cv_score))"
   ]
  },
  {
   "cell_type": "markdown",
   "id": "ee49f3cb",
   "metadata": {},
   "source": [
    "## 舞蹈区"
   ]
  },
  {
   "cell_type": "code",
   "execution_count": 21,
   "id": "222f3aae",
   "metadata": {},
   "outputs": [
    {
     "name": "stdout",
     "output_type": "stream",
     "text": [
      "播放数    1.000000\n",
      "弹幕数    0.452911\n",
      "点赞     0.185009\n",
      "投币     0.160108\n",
      "转发     0.155496\n",
      "收藏     0.152634\n",
      "排名    -0.513211\n",
      "Name: 播放数, dtype: float64\n",
      "train_score:0.685854001248029;cv_score:0.20307337162229888\n"
     ]
    }
   ],
   "source": [
    "dance_x,dance_y =dance[['弹幕数','点赞','投币']],dance['播放数']\n",
    "print(dance.corr()['播放数'].sort_values(ascending=False))\n",
    "# 舞蹈区相关最高分别为 弹幕、点赞、投币\n",
    "d_model = LinearRegression()\n",
    "dx_train,dx_test,dy_train,dy_test = train_test_split(dance_x,dance_y,test_size=0.8,random_state=0)\n",
    "d_model.fit(dance_x,dance_y)\n",
    "\n",
    "train_score = d_model.score(dx_train,dy_train)\n",
    "cv_score = d_model.score(dx_test,dy_test)\n",
    "print('train_score:{};cv_score:{}'.format(train_score,cv_score))"
   ]
  },
  {
   "cell_type": "markdown",
   "id": "3cf6fb7c",
   "metadata": {},
   "source": [
    "### 模型优化"
   ]
  },
  {
   "cell_type": "code",
   "execution_count": 22,
   "id": "2210cc29",
   "metadata": {},
   "outputs": [
    {
     "name": "stdout",
     "output_type": "stream",
     "text": [
      "train_score:0.8146059215953341;cv_score:-15.71739595544932\n"
     ]
    }
   ],
   "source": [
    "d2_model = polynoamial_model(degree=1)\n",
    "\n",
    "d2_model.fit(dx_train,dy_train)\n",
    "\n",
    "train_score = d2_model.score(dx_train,dy_train)\n",
    "cv_score =d2_model.score(dx_test,dy_test)\n",
    "print(\"train_score:{};cv_score:{}\".format(train_score,cv_score))"
   ]
  },
  {
   "cell_type": "markdown",
   "id": "b0fbf0c1",
   "metadata": {},
   "source": [
    "    过拟合了"
   ]
  },
  {
   "cell_type": "markdown",
   "id": "1a2de92b",
   "metadata": {},
   "source": [
    "# 返回截距、系数"
   ]
  },
  {
   "cell_type": "code",
   "execution_count": 23,
   "id": "d1a6fd8d",
   "metadata": {},
   "outputs": [
    {
     "name": "stdout",
     "output_type": "stream",
     "text": [
      "游戏区：\n",
      "截距：210187.73\n",
      "系数: [38.02957148 13.48007669  3.00775972]\n"
     ]
    }
   ],
   "source": [
    "print('游戏区：\\n截距：%.2f\\n系数:'%g_model.intercept_,g_model.coef_)"
   ]
  },
  {
   "cell_type": "code",
   "execution_count": 24,
   "id": "02818eb2",
   "metadata": {},
   "outputs": [
    {
     "name": "stdout",
     "output_type": "stream",
     "text": [
      "知识区：\n",
      "截距：257376.04\n",
      "系数: [39.85204624  9.47648912 -0.41118799]\n"
     ]
    }
   ],
   "source": [
    "print('知识区：\\n截距：%.2f\\n系数:'%k_model.intercept_,k_model.coef_)"
   ]
  },
  {
   "cell_type": "code",
   "execution_count": 25,
   "id": "b16fdf75",
   "metadata": {},
   "outputs": [
    {
     "name": "stdout",
     "output_type": "stream",
     "text": [
      "舞蹈区：\n",
      "截距：119774.26\n",
      "系数: [28.1621048   1.02890596 -2.0300377 ]\n"
     ]
    }
   ],
   "source": [
    "print('舞蹈区：\\n截距：%.2f\\n系数:'%d_model.intercept_,d_model.coef_)"
   ]
  },
  {
   "cell_type": "markdown",
   "id": "ede8b7da",
   "metadata": {},
   "source": [
    "# 回归方程"
   ]
  },
  {
   "cell_type": "code",
   "execution_count": 26,
   "id": "7238e219",
   "metadata": {},
   "outputs": [
    {
     "name": "stdout",
     "output_type": "stream",
     "text": [
      "Y_game = 210187.73 + 38.03*弹幕数 + 13.48*转发 + 3.01*点赞\n"
     ]
    }
   ],
   "source": [
    "print('Y_game = %.2f + %.2f*弹幕数 + %.2f*转发 + %.2f*点赞'%(g_model.intercept_\n",
    "                                                       ,g_model.coef_[0]\n",
    "                                                       ,g_model.coef_[1],g_model.coef_[2]))"
   ]
  },
  {
   "cell_type": "code",
   "execution_count": 27,
   "id": "db0997ac",
   "metadata": {},
   "outputs": [
    {
     "name": "stdout",
     "output_type": "stream",
     "text": [
      "Y_knowledge = 257376.04 + 39.85*弹幕数 + 9.48*转发 + -0.41*点赞\n"
     ]
    }
   ],
   "source": [
    "print('Y_knowledge = %.2f + %.2f*弹幕数 + %.2f*转发 + %.2f*点赞'%(k_model.intercept_\n",
    "                                                       ,k_model.coef_[0]\n",
    "                                                       ,k_model.coef_[1]\n",
    "                                                       ,k_model.coef_[2]))"
   ]
  },
  {
   "cell_type": "code",
   "execution_count": 44,
   "id": "ad3ce2dd",
   "metadata": {},
   "outputs": [
    {
     "name": "stdout",
     "output_type": "stream",
     "text": [
      "Y_dance = 119774.26 + 28.16*弹幕数 + 1.03*点赞 + -2.03*投币\n"
     ]
    }
   ],
   "source": [
    "print('Y_dance = %.2f + %.2f*弹幕数 + %.2f*点赞 + %.2f*投币'%(d_model.intercept_\n",
    "                                                       ,d_model.coef_[0]\n",
    "                                                       ,d_model.coef_[1]\n",
    "                                                       ,d_model.coef_[2]))"
   ]
  },
  {
   "cell_type": "markdown",
   "id": "e18e9894",
   "metadata": {},
   "source": [
    "# 总结"
   ]
  },
  {
   "cell_type": "code",
   "execution_count": 28,
   "id": "15900953",
   "metadata": {},
   "outputs": [],
   "source": [
    "k = pd.DataFrame(knowledge.corr()['播放数'].sort_values(ascending=False).rename('知识区'))\n",
    "g = pd.DataFrame(game.corr()['播放数'].sort_values(ascending=False).rename('游戏区'))\n",
    "d = pd.DataFrame(dance.corr()['播放数'].sort_values(ascending=False).rename('舞蹈区'))"
   ]
  },
  {
   "cell_type": "code",
   "execution_count": 29,
   "id": "5e4efc7f",
   "metadata": {},
   "outputs": [],
   "source": [
    "df = pd.DataFrame()\n",
    "list_ = [k,g,d]\n",
    "for i in list_:\n",
    "    df = pd.concat([df,i],axis=1)"
   ]
  },
  {
   "cell_type": "code",
   "execution_count": 30,
   "id": "5cd3e7da",
   "metadata": {},
   "outputs": [
    {
     "data": {
      "text/html": [
       "<div>\n",
       "<style scoped>\n",
       "    .dataframe tbody tr th:only-of-type {\n",
       "        vertical-align: middle;\n",
       "    }\n",
       "\n",
       "    .dataframe tbody tr th {\n",
       "        vertical-align: top;\n",
       "    }\n",
       "\n",
       "    .dataframe thead th {\n",
       "        text-align: right;\n",
       "    }\n",
       "</style>\n",
       "<table border=\"1\" class=\"dataframe\">\n",
       "  <thead>\n",
       "    <tr style=\"text-align: right;\">\n",
       "      <th></th>\n",
       "      <th>知识区</th>\n",
       "      <th>游戏区</th>\n",
       "      <th>舞蹈区</th>\n",
       "    </tr>\n",
       "  </thead>\n",
       "  <tbody>\n",
       "    <tr>\n",
       "      <th>播放数</th>\n",
       "      <td>1.000000</td>\n",
       "      <td>1.000000</td>\n",
       "      <td>1.000000</td>\n",
       "    </tr>\n",
       "    <tr>\n",
       "      <th>弹幕数</th>\n",
       "      <td>0.396488</td>\n",
       "      <td>0.767067</td>\n",
       "      <td>0.452911</td>\n",
       "    </tr>\n",
       "    <tr>\n",
       "      <th>转发</th>\n",
       "      <td>0.219498</td>\n",
       "      <td>0.732839</td>\n",
       "      <td>0.155496</td>\n",
       "    </tr>\n",
       "    <tr>\n",
       "      <th>点赞</th>\n",
       "      <td>0.191857</td>\n",
       "      <td>0.684210</td>\n",
       "      <td>0.185009</td>\n",
       "    </tr>\n",
       "    <tr>\n",
       "      <th>收藏</th>\n",
       "      <td>0.103799</td>\n",
       "      <td>0.616986</td>\n",
       "      <td>0.152634</td>\n",
       "    </tr>\n",
       "    <tr>\n",
       "      <th>投币</th>\n",
       "      <td>0.072393</td>\n",
       "      <td>0.582462</td>\n",
       "      <td>0.160108</td>\n",
       "    </tr>\n",
       "    <tr>\n",
       "      <th>排名</th>\n",
       "      <td>-0.625640</td>\n",
       "      <td>-0.464442</td>\n",
       "      <td>-0.513211</td>\n",
       "    </tr>\n",
       "  </tbody>\n",
       "</table>\n",
       "</div>"
      ],
      "text/plain": [
       "          知识区       游戏区       舞蹈区\n",
       "播放数  1.000000  1.000000  1.000000\n",
       "弹幕数  0.396488  0.767067  0.452911\n",
       "转发   0.219498  0.732839  0.155496\n",
       "点赞   0.191857  0.684210  0.185009\n",
       "收藏   0.103799  0.616986  0.152634\n",
       "投币   0.072393  0.582462  0.160108\n",
       "排名  -0.625640 -0.464442 -0.513211"
      ]
     },
     "execution_count": 30,
     "metadata": {},
     "output_type": "execute_result"
    }
   ],
   "source": [
    "df"
   ]
  },
  {
   "cell_type": "markdown",
   "id": "93fd4d86",
   "metadata": {},
   "source": [
    "## 小结"
   ]
  },
  {
   "cell_type": "markdown",
   "id": "a26c3bd7",
   "metadata": {},
   "source": [
    "    对于各个分区，相关性最高的变量分别为：\n",
    "    知识区：弹幕、转发、点赞\n",
    "    游戏区：弹幕、转发、点赞\n",
    "    舞蹈区：弹幕、点赞、投币\n",
    "    能否让用户在弹幕互动，并且引发共鸣转发点赞是视频起量的关键"
   ]
  },
  {
   "cell_type": "markdown",
   "id": "99c21d5c",
   "metadata": {},
   "source": [
    "# 小练习"
   ]
  },
  {
   "cell_type": "markdown",
   "id": "5b85cf22",
   "metadata": {},
   "source": [
    "## 数据查看"
   ]
  },
  {
   "cell_type": "code",
   "execution_count": 31,
   "id": "5e3b9e41",
   "metadata": {},
   "outputs": [
    {
     "data": {
      "text/html": [
       "<div>\n",
       "<style scoped>\n",
       "    .dataframe tbody tr th:only-of-type {\n",
       "        vertical-align: middle;\n",
       "    }\n",
       "\n",
       "    .dataframe tbody tr th {\n",
       "        vertical-align: top;\n",
       "    }\n",
       "\n",
       "    .dataframe thead th {\n",
       "        text-align: right;\n",
       "    }\n",
       "</style>\n",
       "<table border=\"1\" class=\"dataframe\">\n",
       "  <thead>\n",
       "    <tr style=\"text-align: right;\">\n",
       "      <th></th>\n",
       "      <th>转发</th>\n",
       "      <th>收藏</th>\n",
       "      <th>投币</th>\n",
       "      <th>点赞</th>\n",
       "      <th>弹幕数</th>\n",
       "      <th>播放数</th>\n",
       "      <th>所属分区</th>\n",
       "      <th>排名</th>\n",
       "      <th>up主</th>\n",
       "      <th>视频标题</th>\n",
       "      <th>发布时间</th>\n",
       "    </tr>\n",
       "  </thead>\n",
       "  <tbody>\n",
       "    <tr>\n",
       "      <th>4</th>\n",
       "      <td>163</td>\n",
       "      <td>1066</td>\n",
       "      <td>541</td>\n",
       "      <td>1438</td>\n",
       "      <td>13</td>\n",
       "      <td>19000</td>\n",
       "      <td>知识区</td>\n",
       "      <td>NaN</td>\n",
       "      <td>戴师兄</td>\n",
       "      <td>教大家一个在职场非常实用的爬虫小技巧，人人都能学会~</td>\n",
       "      <td>2020-06-28 21:00:28</td>\n",
       "    </tr>\n",
       "    <tr>\n",
       "      <th>68</th>\n",
       "      <td>78</td>\n",
       "      <td>938</td>\n",
       "      <td>604</td>\n",
       "      <td>730</td>\n",
       "      <td>309</td>\n",
       "      <td>14000</td>\n",
       "      <td>知识区</td>\n",
       "      <td>NaN</td>\n",
       "      <td>戴师兄</td>\n",
       "      <td>【戴师兄】数据分析业务真题讲解，看完就能掌握7步解题法哦~</td>\n",
       "      <td>2020-08-13 20:00:55</td>\n",
       "    </tr>\n",
       "    <tr>\n",
       "      <th>115</th>\n",
       "      <td>75</td>\n",
       "      <td>926</td>\n",
       "      <td>787</td>\n",
       "      <td>866</td>\n",
       "      <td>210</td>\n",
       "      <td>17000</td>\n",
       "      <td>知识区</td>\n",
       "      <td>NaN</td>\n",
       "      <td>戴师兄</td>\n",
       "      <td>【戴师兄】Tableau动态图表/动态仪表盘制作教程|数据动图教程|动态可视化教程|SQL教...</td>\n",
       "      <td>2020-08-18 20:38:52</td>\n",
       "    </tr>\n",
       "    <tr>\n",
       "      <th>118</th>\n",
       "      <td>112</td>\n",
       "      <td>1605</td>\n",
       "      <td>1032</td>\n",
       "      <td>1312</td>\n",
       "      <td>271</td>\n",
       "      <td>24000</td>\n",
       "      <td>知识区</td>\n",
       "      <td>NaN</td>\n",
       "      <td>戴师兄</td>\n",
       "      <td>【数据分析求职/找实习全攻略】数据分析要学什么？如何制作数据作品？面试常见问题如何回答？数分...</td>\n",
       "      <td>2020-07-09 02:36:43</td>\n",
       "    </tr>\n",
       "    <tr>\n",
       "      <th>119</th>\n",
       "      <td>81</td>\n",
       "      <td>534</td>\n",
       "      <td>319</td>\n",
       "      <td>482</td>\n",
       "      <td>53</td>\n",
       "      <td>8990</td>\n",
       "      <td>知识区</td>\n",
       "      <td>NaN</td>\n",
       "      <td>戴师兄</td>\n",
       "      <td>全网最良心的【简历制作攻略】它来了！转行怎么写简历？如何针对新岗位进行简历升级？简历没内容可...</td>\n",
       "      <td>2021-03-29 21:46:29</td>\n",
       "    </tr>\n",
       "  </tbody>\n",
       "</table>\n",
       "</div>"
      ],
      "text/plain": [
       "      转发    收藏    投币    点赞  弹幕数    播放数 所属分区  排名  up主  \\\n",
       "4    163  1066   541  1438   13  19000  知识区 NaN  戴师兄   \n",
       "68    78   938   604   730  309  14000  知识区 NaN  戴师兄   \n",
       "115   75   926   787   866  210  17000  知识区 NaN  戴师兄   \n",
       "118  112  1605  1032  1312  271  24000  知识区 NaN  戴师兄   \n",
       "119   81   534   319   482   53   8990  知识区 NaN  戴师兄   \n",
       "\n",
       "                                                  视频标题                发布时间  \n",
       "4                           教大家一个在职场非常实用的爬虫小技巧，人人都能学会~ 2020-06-28 21:00:28  \n",
       "68                       【戴师兄】数据分析业务真题讲解，看完就能掌握7步解题法哦~ 2020-08-13 20:00:55  \n",
       "115  【戴师兄】Tableau动态图表/动态仪表盘制作教程|数据动图教程|动态可视化教程|SQL教... 2020-08-18 20:38:52  \n",
       "118  【数据分析求职/找实习全攻略】数据分析要学什么？如何制作数据作品？面试常见问题如何回答？数分... 2020-07-09 02:36:43  \n",
       "119  全网最良心的【简历制作攻略】它来了！转行怎么写简历？如何针对新岗位进行简历升级？简历没内容可... 2021-03-29 21:46:29  "
      ]
     },
     "execution_count": 31,
     "metadata": {},
     "output_type": "execute_result"
    }
   ],
   "source": [
    "dsx.head()"
   ]
  },
  {
   "cell_type": "code",
   "execution_count": 32,
   "id": "52004f6a",
   "metadata": {},
   "outputs": [
    {
     "data": {
      "text/plain": [
       "播放数    1.000000\n",
       "点赞     0.970786\n",
       "收藏     0.927155\n",
       "转发     0.922612\n",
       "投币     0.920872\n",
       "弹幕数    0.616626\n",
       "排名          NaN\n",
       "Name: 播放数, dtype: float64"
      ]
     },
     "execution_count": 32,
     "metadata": {},
     "output_type": "execute_result"
    }
   ],
   "source": [
    "dsx.corr()['播放数'].sort_values(ascending= False)"
   ]
  },
  {
   "cell_type": "markdown",
   "id": "1b810b39",
   "metadata": {},
   "source": [
    "## 可视化"
   ]
  },
  {
   "cell_type": "code",
   "execution_count": 45,
   "id": "1c1a8e36",
   "metadata": {},
   "outputs": [
    {
     "data": {
      "text/plain": [
       "<seaborn.axisgrid.PairGrid at 0x22879287460>"
      ]
     },
     "execution_count": 45,
     "metadata": {},
     "output_type": "execute_result"
    },
    {
     "data": {
      "image/png": "[encoded data removed]",
      "text/plain": [
       "<Figure size 1800x360 with 5 Axes>"
      ]
     },
     "metadata": {
      "needs_background": "light"
     },
     "output_type": "display_data"
    }
   ],
   "source": [
    "sns.pairplot(dsx\n",
    "            ,kind='reg'\n",
    "            ,x_vars = ['弹幕数','点赞','投币','转发','收藏']\n",
    "            ,y_vars =['播放数']\n",
    "            ,height = 5)"
   ]
  },
  {
   "cell_type": "markdown",
   "id": "f933e5b5",
   "metadata": {},
   "source": [
    "## 建模分析"
   ]
  },
  {
   "cell_type": "code",
   "execution_count": 34,
   "id": "6c2252a9",
   "metadata": {},
   "outputs": [
    {
     "name": "stdout",
     "output_type": "stream",
     "text": [
      "播放数    1.000000\n",
      "点赞     0.970786\n",
      "收藏     0.927155\n",
      "转发     0.922612\n",
      "投币     0.920872\n",
      "弹幕数    0.616626\n",
      "排名          NaN\n",
      "Name: 播放数, dtype: float64\n",
      "train_score:0.9685635859085155;cv_score:0.9562087587269978\n"
     ]
    }
   ],
   "source": [
    "dsx_x,dsx_y =dsx[['点赞','收藏','转发']],dsx['播放数']\n",
    "print(dsx.corr()['播放数'].sort_values(ascending=False))\n",
    "# 舞蹈区相关最高分别为 '点赞','收藏','转发'\n",
    "ds_model = LinearRegression()\n",
    "dsx_train,dsx_test,dsy_train,dsy_test = train_test_split(dsx_x,dsx_y,test_size=0.8,random_state=0)\n",
    "ds_model.fit(dsx_x,dsx_y)\n",
    "\n",
    "train_score = ds_model.score(dsx_train,dsy_train)\n",
    "cv_score = ds_model.score(dsx_test,dsy_test)\n",
    "print('train_score:{};cv_score:{}'.format(train_score,cv_score))"
   ]
  },
  {
   "cell_type": "markdown",
   "id": "e6232df7",
   "metadata": {},
   "source": [
    "## 回归方程"
   ]
  },
  {
   "cell_type": "code",
   "execution_count": 35,
   "id": "52945c88",
   "metadata": {},
   "outputs": [
    {
     "name": "stdout",
     "output_type": "stream",
     "text": [
      "戴师兄：\n",
      "截距：6342.97\n",
      "系数: [23.83989331 -6.07715833 34.85474554]\n"
     ]
    }
   ],
   "source": [
    "print('戴师兄：\\n截距：%.2f\\n系数:'%ds_model.intercept_,ds_model.coef_)"
   ]
  },
  {
   "cell_type": "code",
   "execution_count": 37,
   "id": "533e09bd",
   "metadata": {},
   "outputs": [
    {
     "name": "stdout",
     "output_type": "stream",
     "text": [
      "Y_dsx = 6342.97 + 23.84*点赞 + -6.08*收藏 + 34.85*转发\n"
     ]
    }
   ],
   "source": [
    "print('Y_dsx = %.2f + %.2f*点赞 + %.2f*收藏 + %.2f*转发'%(ds_model.intercept_\n",
    "                                                       ,ds_model.coef_[0]\n",
    "                                                       ,ds_model.coef_[1]\n",
    "                                                       ,ds_model.coef_[2]))"
   ]
  },
  {
   "cell_type": "code",
   "execution_count": null,
   "id": "0c34c62c",
   "metadata": {},
   "outputs": [],
   "source": [
    "戴师兄相关性最高的变量分别为；\n",
    "    点赞、收藏、转发\n",
    "能否让用户点赞，收藏并转发给是视频起量的关键"
   ]
  },
  {
   "cell_type": "markdown",
   "id": "c900fd7b",
   "metadata": {},
   "source": [
    "    路漫漫其修远兮"
   ]
  }
 ],
 "metadata": {
  "kernelspec": {
   "display_name": "Python 3",
   "language": "python",
   "name": "python3"
  },
  "language_info": {
   "codemirror_mode": {
    "name": "ipython",
    "version": 3
   },
   "file_extension": ".py",
   "mimetype": "text/x-python",
   "name": "python",
   "nbconvert_exporter": "python",
   "pygments_lexer": "ipython3",
   "version": "3.8.10"
  },
  "toc": {
   "base_numbering": 1,
   "nav_menu": {},
   "number_sections": true,
   "sideBar": true,
   "skip_h1_title": false,
   "title_cell": "Table of Contents",
   "title_sidebar": "Contents",
   "toc_cell": false,
   "toc_position": {},
   "toc_section_display": true,
   "toc_window_display": false
  }
 },
 "nbformat": 4,
 "nbformat_minor": 5
}
