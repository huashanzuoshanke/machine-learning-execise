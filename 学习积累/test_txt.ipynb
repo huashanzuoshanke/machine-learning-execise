{
 "cells": [
  {
   "cell_type": "markdown",
   "id": "038ccc21",
   "metadata": {},
   "source": [
    "#一级标题\n",
    "##二级标题"
   ]
  },
  {
   "cell_type": "markdown",
   "id": "b49d986d",
   "metadata": {},
   "source": [
    "#第一章\n",
    "主要内容是：\n",
    "    第一点\n",
    "    第二点\n",
    "总结"
   ]
  },
  {
   "cell_type": "markdown",
   "id": "75e0dbbc",
   "metadata": {},
   "source": [
    "读后感\n"
   ]
  },
  {
   "cell_type": "markdown",
   "id": "ba5b6928",
   "metadata": {},
   "source": [
    "    读后感"
   ]
  }
 ],
 "metadata": {
  "kernelspec": {
   "display_name": "Python 3",
   "language": "python",
   "name": "python3"
  },
  "language_info": {
   "codemirror_mode": {
    "name": "ipython",
    "version": 3
   },
   "file_extension": ".py",
   "mimetype": "text/x-python",
   "name": "python",
   "nbconvert_exporter": "python",
   "pygments_lexer": "ipython3",
   "version": "3.8.10"
  }
 },
 "nbformat": 4,
 "nbformat_minor": 5
}
