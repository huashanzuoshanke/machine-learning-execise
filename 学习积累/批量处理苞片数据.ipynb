{
 "cells": [
  {
   "cell_type": "code",
   "execution_count": 2,
   "id": "5d0b68d7",
   "metadata": {},
   "outputs": [],
   "source": [
    "#导入库\n",
    "from scipy import interpolate\n",
    "from scipy.interpolate import interp1d\n",
    "import matplotlib.pyplot as plt\n",
    "import numpy as np\n",
    "import math\n",
    "import pandas as pd\n",
    "#批量读取工作簿\n",
    "import os\n",
    "import xlwings as xw"
   ]
  },
  {
   "cell_type": "code",
   "execution_count": 3,
   "id": "8bcb319b",
   "metadata": {},
   "outputs": [],
   "source": [
    "#批量导入文件\n",
    "file_path = 'D:\\\\dataanalyse\\\\实战项目\\\\test'     # 给出工作簿所在的文件夹路径\n",
    "file_list = os.listdir(file_path)     # 列出路径下所有文件和子文件夹的名称\n",
    "file_path1 =\"D:\\\\dataanalyse\\\\实战项目\\\\A10.xlsx\"\n",
    "df2 = pd.read_excel(file_path1,sheet_name = '1',header =0)"
   ]
  },
  {
   "cell_type": "code",
   "execution_count": 7,
   "id": "c258ba29",
   "metadata": {},
   "outputs": [],
   "source": [
    "#创建字典读取文件\n",
    "d ={}                           #创建字典\n",
    "for i in file_list:\n",
    "    filename = 'df'+str(i)      #创建字典的关键字\n",
    "    d[filename] = pd.read_excel(file_path + '\\\\' + i)\n",
    "    d[filename] = d[filename].drop([0]) #注意删除后要更新\n",
    "    #f = d[filename].shape[1]\n",
    "    new_list =d[filename].columns\n",
    "#     j = 1\n",
    "#     while j < 257:\n",
    "#         x = d[filename].iloc[:,0]\n",
    "#         y = d[filename].iloc[:,j]\n",
    "#         f = interpolate.interp1d(x,y)    #插值算法\n",
    "#         a1 = dfa.iloc[0,0]\n",
    "#         c1 = d[filename].shape[0]-1\n",
    "#         b1 = dfa.iloc[c1,0]\n",
    "#         xnew = np.arange(a1,b1,1)     #注意值的个数要匹配\n",
    "#         ynew = f(xnew)\n",
    "#         try:\n",
    "#             df2.insert(j,new_list[j],ynew) #动态插入，忽略错误继续运\n",
    "#         except:\n",
    "#             print(\"已插入过一次\")\n",
    "#         j +=1\n",
    "#     df2.to_csv(\"D:\\\\dataanalyse\\\\实战项目\"+'\\\\'+str(filename)+'.csv',encoding='utf-8', index=False)"
   ]
  },
  {
   "cell_type": "code",
   "execution_count": 5,
   "id": "2a993651",
   "metadata": {},
   "outputs": [],
   "source": [
    "d ={}                           #创建字典\n",
    "for i in file_list:\n",
    "    ddd = 'df'+str(i)      #创建字典的关键字\n",
    "    d[ddd] = pd.read_excel(file_path + '\\\\' + i)"
   ]
  },
  {
   "cell_type": "code",
   "execution_count": 8,
   "id": "def14222",
   "metadata": {
    "scrolled": true
   },
   "outputs": [
    {
     "ename": "KeyError",
     "evalue": "'dfB04.xlsx'",
     "output_type": "error",
     "traceback": [
      "\u001b[1;31m---------------------------------------------------------------------------\u001b[0m",
      "\u001b[1;31mKeyError\u001b[0m                                  Traceback (most recent call last)",
      "\u001b[1;32m<ipython-input-8-2b0e2f6ee6b7>\u001b[0m in \u001b[0;36m<module>\u001b[1;34m\u001b[0m\n\u001b[1;32m----> 1\u001b[1;33m \u001b[0mdfa\u001b[0m \u001b[1;33m=\u001b[0m \u001b[0md\u001b[0m\u001b[1;33m[\u001b[0m\u001b[1;34m'dfB04.xlsx'\u001b[0m\u001b[1;33m]\u001b[0m   \u001b[1;31m# '<' not supported between instances of 'str' and 'float'看好数据结构\u001b[0m\u001b[1;33m\u001b[0m\u001b[1;33m\u001b[0m\u001b[0m\n\u001b[0m\u001b[0;32m      2\u001b[0m \u001b[0mdfa\u001b[0m \u001b[1;33m=\u001b[0m \u001b[0mdfa\u001b[0m\u001b[1;33m.\u001b[0m\u001b[0mdrop\u001b[0m\u001b[1;33m(\u001b[0m\u001b[1;33m[\u001b[0m\u001b[1;36m0\u001b[0m\u001b[1;33m]\u001b[0m\u001b[1;33m)\u001b[0m\u001b[1;33m\u001b[0m\u001b[1;33m\u001b[0m\u001b[0m\n\u001b[0;32m      3\u001b[0m \u001b[0mdfa\u001b[0m\u001b[1;33m.\u001b[0m\u001b[0mhead\u001b[0m\u001b[1;33m(\u001b[0m\u001b[1;33m)\u001b[0m\u001b[1;33m\u001b[0m\u001b[1;33m\u001b[0m\u001b[0m\n\u001b[0;32m      4\u001b[0m \u001b[0mx\u001b[0m \u001b[1;33m=\u001b[0m \u001b[0mdfa\u001b[0m\u001b[1;33m.\u001b[0m\u001b[0miloc\u001b[0m\u001b[1;33m[\u001b[0m\u001b[1;33m:\u001b[0m\u001b[1;33m,\u001b[0m\u001b[1;36m0\u001b[0m\u001b[1;33m]\u001b[0m\u001b[1;33m\u001b[0m\u001b[1;33m\u001b[0m\u001b[0m\n\u001b[0;32m      5\u001b[0m \u001b[1;31m# y = dfa.iloc[:,1]\u001b[0m\u001b[1;33m\u001b[0m\u001b[1;33m\u001b[0m\u001b[1;33m\u001b[0m\u001b[0m\n",
      "\u001b[1;31mKeyError\u001b[0m: 'dfB04.xlsx'"
     ]
    }
   ],
   "source": [
    "dfa = d['dfB04.xlsx']   # '<' not supported between instances of 'str' and 'float'看好数据结构\n",
    "dfa = dfa.drop([0])\n",
    "dfa.head()\n",
    "x = dfa.iloc[:,0]\n",
    "# y = dfa.iloc[:,1]\n",
    "# f = interpolate.interp1d(x,y)\n",
    "# a = dfa.iloc[0,0]\n",
    "# b = dfa.iloc[1301,0]\n",
    "# xnew = np.arange(a,b,1)     #注意值的个数要匹配\n",
    "# ynew = f(xnew)"
   ]
  },
  {
   "cell_type": "code",
   "execution_count": 99,
   "id": "cc7ad4ce",
   "metadata": {},
   "outputs": [
    {
     "data": {
      "text/plain": [
       "1051.18823242187"
      ]
     },
     "execution_count": 99,
     "metadata": {},
     "output_type": "execute_result"
    }
   ],
   "source": [
    "b = dfa.iloc[1301,0]     #取某点数据\n",
    "#b = dfa.iloc[[1301,1301]:0,1]\n",
    "b"
   ]
  },
  {
   "cell_type": "code",
   "execution_count": 191,
   "id": "46e30555",
   "metadata": {
    "scrolled": true
   },
   "outputs": [
    {
     "data": {
      "text/plain": [
       "257"
      ]
     },
     "execution_count": 191,
     "metadata": {},
     "output_type": "execute_result"
    }
   ],
   "source": [
    "dfa.shape[1]"
   ]
  },
  {
   "cell_type": "code",
   "execution_count": 159,
   "id": "d365ffd4",
   "metadata": {},
   "outputs": [
    {
     "data": {
      "text/html": [
       "<div>\n",
       "<style scoped>\n",
       "    .dataframe tbody tr th:only-of-type {\n",
       "        vertical-align: middle;\n",
       "    }\n",
       "\n",
       "    .dataframe tbody tr th {\n",
       "        vertical-align: top;\n",
       "    }\n",
       "\n",
       "    .dataframe thead th {\n",
       "        text-align: right;\n",
       "    }\n",
       "</style>\n",
       "<table border=\"1\" class=\"dataframe\">\n",
       "  <thead>\n",
       "    <tr style=\"text-align: right;\">\n",
       "      <th></th>\n",
       "      <th>wave</th>\n",
       "    </tr>\n",
       "  </thead>\n",
       "  <tbody>\n",
       "    <tr>\n",
       "      <th>0</th>\n",
       "      <td>300</td>\n",
       "    </tr>\n",
       "    <tr>\n",
       "      <th>1</th>\n",
       "      <td>301</td>\n",
       "    </tr>\n",
       "    <tr>\n",
       "      <th>2</th>\n",
       "      <td>302</td>\n",
       "    </tr>\n",
       "    <tr>\n",
       "      <th>3</th>\n",
       "      <td>303</td>\n",
       "    </tr>\n",
       "    <tr>\n",
       "      <th>4</th>\n",
       "      <td>304</td>\n",
       "    </tr>\n",
       "  </tbody>\n",
       "</table>\n",
       "</div>"
      ],
      "text/plain": [
       "   wave\n",
       "0   300\n",
       "1   301\n",
       "2   302\n",
       "3   303\n",
       "4   304"
      ]
     },
     "execution_count": 159,
     "metadata": {},
     "output_type": "execute_result"
    }
   ],
   "source": [
    "df2.head()"
   ]
  },
  {
   "cell_type": "code",
   "execution_count": 181,
   "id": "13d4a190",
   "metadata": {},
   "outputs": [
    {
     "data": {
      "text/plain": [
       "True"
      ]
     },
     "execution_count": 181,
     "metadata": {},
     "output_type": "execute_result"
    }
   ],
   "source": [
    "yy = 1\n",
    "yy < dfa.shape[0]"
   ]
  },
  {
   "cell_type": "code",
   "execution_count": null,
   "id": "f481a674",
   "metadata": {},
   "outputs": [],
   "source": []
  }
 ],
 "metadata": {
  "kernelspec": {
   "display_name": "Python 3",
   "language": "python",
   "name": "python3"
  },
  "language_info": {
   "codemirror_mode": {
    "name": "ipython",
    "version": 3
   },
   "file_extension": ".py",
   "mimetype": "text/x-python",
   "name": "python",
   "nbconvert_exporter": "python",
   "pygments_lexer": "ipython3",
   "version": "3.8.10"
  }
 },
 "nbformat": 4,
 "nbformat_minor": 5
}
